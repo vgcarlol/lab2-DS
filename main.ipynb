{
 "cells": [
  {
   "cell_type": "markdown",
   "id": "35d8a076",
   "metadata": {},
   "source": [
    "# Laboratorio 2: Redes Neuronales con MNIST"
   ]
  },
  {
   "cell_type": "markdown",
   "id": "9979e17d",
   "metadata": {},
   "source": [
    "## 0. Setup Inicial\n",
    "\n",
    "Descripción: Cargamos librerías, preprocesamos los datos y definimos funciones reutilizables para crear modelos y ejecutar experimentos."
   ]
  },
  {
   "cell_type": "code",
   "execution_count": 1,
   "id": "b0f8e45d",
   "metadata": {},
   "outputs": [
    {
     "name": "stdout",
     "output_type": "stream",
     "text": [
      "Downloading data from https://storage.googleapis.com/tensorflow/tf-keras-datasets/mnist.npz\n",
      "\u001b[1m11490434/11490434\u001b[0m \u001b[32m━━━━━━━━━━━━━━━━━━━━\u001b[0m\u001b[37m\u001b[0m \u001b[1m1s\u001b[0m 0us/step\n"
     ]
    }
   ],
   "source": [
    "import tensorflow as tf\n",
    "from tensorflow import keras\n",
    "import time\n",
    "import pandas as pd\n",
    "import matplotlib.pyplot as plt\n",
    "\n",
    "# 1. Carga y normalización de MNIST\n",
    "dataset = keras.datasets.mnist\n",
    "(x_train, y_train), (x_test, y_test) = dataset.load_data()\n",
    "x_train = x_train.reshape(-1, 28*28).astype('float32') / 255.0\n",
    "x_test  = x_test.reshape(-1, 28*28).astype('float32') / 255.0\n",
    "\n",
    "# 2. Definición de constructor de modelo\n",
    "def build_model(hidden_layers, activations, learning_rate,\n",
    "                 input_shape=(784,), num_classes=10,\n",
    "                 dropout_rate=None, l2_reg=None):\n",
    "    model = keras.Sequential()\n",
    "    model.add(keras.layers.InputLayer(input_shape=input_shape))\n",
    "    for units, act in zip(hidden_layers, activations):\n",
    "        reg = keras.regularizers.l2(l2_reg) if l2_reg else None\n",
    "        model.add(keras.layers.Dense(units, activation=act, kernel_regularizer=reg))\n",
    "        if dropout_rate:\n",
    "            model.add(keras.layers.Dropout(dropout_rate))\n",
    "    model.add(keras.layers.Dense(num_classes, activation='softmax'))\n",
    "    optimizer = keras.optimizers.SGD(learning_rate=learning_rate)\n",
    "    model.compile(optimizer=optimizer,\n",
    "                  loss='sparse_categorical_crossentropy',\n",
    "                  metrics=['accuracy'])\n",
    "    return model\n",
    "\n",
    "# 3. Función de ejecución de experimento\n",
    "def run_experiment(config, epochs=10, batch_size=128):\n",
    "    model = build_model(\n",
    "        hidden_layers=config['hidden_layers'],\n",
    "        activations=config['activations'],\n",
    "        learning_rate=config['learning_rate'],\n",
    "        dropout_rate=config.get('dropout_rate'),\n",
    "        l2_reg=config.get('l2_reg')\n",
    "    )\n",
    "    start = time.time()\n",
    "    history = model.fit(\n",
    "        x_train, y_train,\n",
    "        validation_split=0.1,\n",
    "        epochs=epochs,\n",
    "        batch_size=batch_size,\n",
    "        verbose=0\n",
    "    )\n",
    "    elapsed = time.time() - start\n",
    "    return {\n",
    "        'config': config,\n",
    "        'val_accuracy': history.history['val_accuracy'][-1],\n",
    "        'train_time': elapsed,\n",
    "        'history': history\n",
    "    }"
   ]
  },
  {
   "cell_type": "markdown",
   "id": "574b9085",
   "metadata": {},
   "source": [
    "## Ejercicio 1: Modificación del Ancho de la Red (8 pts)\n",
    "\n",
    "Objetivo: Evaluar cómo cambia la precisión y el tiempo de entrenamiento al variar el número de neuronas en una sola capa oculta.\n",
    "\n",
    "Pasos:\n",
    "- Definir tamaños sizes = [50, 100, 200, 300, 500].\n",
    "- Entrenar modelos con hidden_layers=[s] y activation='relu'.\n",
    "- Recopilar resultados en un DataFrame."
   ]
  },
  {
   "cell_type": "code",
   "execution_count": 2,
   "id": "101440f4",
   "metadata": {},
   "outputs": [
    {
     "name": "stderr",
     "output_type": "stream",
     "text": [
      "c:\\Users\\user\\AppData\\Local\\Programs\\Python\\Python312\\Lib\\site-packages\\keras\\src\\layers\\core\\input_layer.py:27: UserWarning: Argument `input_shape` is deprecated. Use `shape` instead.\n",
      "  warnings.warn(\n"
     ]
    },
    {
     "data": {
      "text/html": [
       "<div>\n",
       "<style scoped>\n",
       "    .dataframe tbody tr th:only-of-type {\n",
       "        vertical-align: middle;\n",
       "    }\n",
       "\n",
       "    .dataframe tbody tr th {\n",
       "        vertical-align: top;\n",
       "    }\n",
       "\n",
       "    .dataframe thead th {\n",
       "        text-align: right;\n",
       "    }\n",
       "</style>\n",
       "<table border=\"1\" class=\"dataframe\">\n",
       "  <thead>\n",
       "    <tr style=\"text-align: right;\">\n",
       "      <th></th>\n",
       "      <th>size</th>\n",
       "      <th>val_acc</th>\n",
       "      <th>train_time</th>\n",
       "    </tr>\n",
       "  </thead>\n",
       "  <tbody>\n",
       "    <tr>\n",
       "      <th>0</th>\n",
       "      <td>50</td>\n",
       "      <td>0.928500</td>\n",
       "      <td>11.476938</td>\n",
       "    </tr>\n",
       "    <tr>\n",
       "      <th>1</th>\n",
       "      <td>100</td>\n",
       "      <td>0.929833</td>\n",
       "      <td>11.486146</td>\n",
       "    </tr>\n",
       "    <tr>\n",
       "      <th>2</th>\n",
       "      <td>200</td>\n",
       "      <td>0.933500</td>\n",
       "      <td>14.658858</td>\n",
       "    </tr>\n",
       "    <tr>\n",
       "      <th>3</th>\n",
       "      <td>300</td>\n",
       "      <td>0.936667</td>\n",
       "      <td>16.141831</td>\n",
       "    </tr>\n",
       "    <tr>\n",
       "      <th>4</th>\n",
       "      <td>500</td>\n",
       "      <td>0.938167</td>\n",
       "      <td>17.199342</td>\n",
       "    </tr>\n",
       "  </tbody>\n",
       "</table>\n",
       "</div>"
      ],
      "text/plain": [
       "   size   val_acc  train_time\n",
       "0    50  0.928500   11.476938\n",
       "1   100  0.929833   11.486146\n",
       "2   200  0.933500   14.658858\n",
       "3   300  0.936667   16.141831\n",
       "4   500  0.938167   17.199342"
      ]
     },
     "metadata": {},
     "output_type": "display_data"
    }
   ],
   "source": [
    "sizes = [50, 100, 200, 300, 500]\n",
    "results1 = []\n",
    "for s in sizes:\n",
    "    cfg = {\n",
    "        'hidden_layers': [s],\n",
    "        'activations': ['relu'],\n",
    "        'learning_rate': 0.01\n",
    "    }\n",
    "    res = run_experiment(cfg, epochs=10, batch_size=128)\n",
    "    results1.append({'size': s,\n",
    "                     'val_acc': res['val_accuracy'],\n",
    "                     'train_time': res['train_time']})\n",
    "\n",
    "df1 = pd.DataFrame(results1)\n",
    "display(df1)"
   ]
  },
  {
   "cell_type": "markdown",
   "id": "c6d55deb",
   "metadata": {},
   "source": [
    "Interpretación: Comprueba la tendencia de val_acc y train_time según aumenta el ancho."
   ]
  },
  {
   "cell_type": "markdown",
   "id": "e62dcecd",
   "metadata": {},
   "source": [
    "## Ejercicio 2: Modificación de la Profundidad de la Red (12 pts)\n",
    "\n",
    "Objetivo: Comparar un modelo de una capa con uno de dos capas y analizar dimensiones de pesos y biases."
   ]
  },
  {
   "cell_type": "code",
   "execution_count": 3,
   "id": "ae84bbb1",
   "metadata": {},
   "outputs": [
    {
     "name": "stderr",
     "output_type": "stream",
     "text": [
      "c:\\Users\\user\\AppData\\Local\\Programs\\Python\\Python312\\Lib\\site-packages\\keras\\src\\layers\\core\\input_layer.py:27: UserWarning: Argument `input_shape` is deprecated. Use `shape` instead.\n",
      "  warnings.warn(\n"
     ]
    },
    {
     "name": "stdout",
     "output_type": "stream",
     "text": [
      "Configuración: {'hidden_layers': [200], 'activations': ['relu'], 'learning_rate': 0.01}\n",
      " Capa 0: pesos (784, 200), bias (200,)\n",
      " Capa 1: pesos (200, 10), bias (10,)\n",
      "Base -> val_acc=0.9310, time=13.64s\n",
      "Configuración: {'hidden_layers': [200, 100], 'activations': ['relu', 'relu'], 'learning_rate': 0.01}\n",
      " Capa 0: pesos (784, 200), bias (200,)\n",
      " Capa 1: pesos (200, 100), bias (100,)\n",
      " Capa 2: pesos (100, 10), bias (10,)\n",
      "Profundo -> val_acc=0.9435, time=15.38s\n"
     ]
    }
   ],
   "source": [
    "# 1. Modelo base: 1 capa de 200 unidades\n",
    "def describe_model(cfg):\n",
    "    model = build_model(cfg['hidden_layers'], cfg['activations'], cfg['learning_rate'])\n",
    "    print(\"Configuración:\", cfg)\n",
    "    for i, layer in enumerate(model.layers):\n",
    "        if hasattr(layer, 'kernel'):\n",
    "            w, b = layer.get_weights()\n",
    "            print(f\" Capa {i}: pesos {w.shape}, bias {b.shape}\")\n",
    "    return model\n",
    "\n",
    "base_cfg = {'hidden_layers': [200], 'activations': ['relu'], 'learning_rate': 0.01}\n",
    "base_model = describe_model(base_cfg)\n",
    "base_res = run_experiment(base_cfg)\n",
    "print(f\"Base -> val_acc={base_res['val_accuracy']:.4f}, time={base_res['train_time']:.2f}s\")\n",
    "\n",
    "# 2. Modelo profundo: 2 capas [200, 100]\n",
    "deep_cfg = {'hidden_layers': [200, 100], 'activations': ['relu', 'relu'], 'learning_rate': 0.01}\n",
    "deep_model = describe_model(deep_cfg)\n",
    "deep_res = run_experiment(deep_cfg)\n",
    "print(f\"Profundo -> val_acc={deep_res['val_accuracy']:.4f}, time={deep_res['train_time']:.2f}s\")"
   ]
  },
  {
   "cell_type": "markdown",
   "id": "7b6059ba",
   "metadata": {},
   "source": [
    "Análisis: Observa el incremento de parámetros y el impacto en precisión y tiempo."
   ]
  },
  {
   "cell_type": "markdown",
   "id": "508b5793",
   "metadata": {},
   "source": [
    "## Ejercicio 3: Redes Profundas (12 pts)\n",
    "\n",
    "Objetivo: Estudiar profundidad de 1 a 5 capas con ancho fijo (100) para analizar desvanecimiento de gradiente."
   ]
  },
  {
   "cell_type": "code",
   "execution_count": 4,
   "id": "e8f2a6b9",
   "metadata": {},
   "outputs": [
    {
     "data": {
      "text/html": [
       "<div>\n",
       "<style scoped>\n",
       "    .dataframe tbody tr th:only-of-type {\n",
       "        vertical-align: middle;\n",
       "    }\n",
       "\n",
       "    .dataframe tbody tr th {\n",
       "        vertical-align: top;\n",
       "    }\n",
       "\n",
       "    .dataframe thead th {\n",
       "        text-align: right;\n",
       "    }\n",
       "</style>\n",
       "<table border=\"1\" class=\"dataframe\">\n",
       "  <thead>\n",
       "    <tr style=\"text-align: right;\">\n",
       "      <th></th>\n",
       "      <th>depth</th>\n",
       "      <th>val_acc</th>\n",
       "      <th>train_time</th>\n",
       "    </tr>\n",
       "  </thead>\n",
       "  <tbody>\n",
       "    <tr>\n",
       "      <th>0</th>\n",
       "      <td>1</td>\n",
       "      <td>0.933000</td>\n",
       "      <td>12.830817</td>\n",
       "    </tr>\n",
       "    <tr>\n",
       "      <th>1</th>\n",
       "      <td>2</td>\n",
       "      <td>0.941667</td>\n",
       "      <td>13.491834</td>\n",
       "    </tr>\n",
       "    <tr>\n",
       "      <th>2</th>\n",
       "      <td>3</td>\n",
       "      <td>0.945333</td>\n",
       "      <td>12.411852</td>\n",
       "    </tr>\n",
       "    <tr>\n",
       "      <th>3</th>\n",
       "      <td>4</td>\n",
       "      <td>0.955167</td>\n",
       "      <td>13.163349</td>\n",
       "    </tr>\n",
       "    <tr>\n",
       "      <th>4</th>\n",
       "      <td>5</td>\n",
       "      <td>0.958500</td>\n",
       "      <td>13.765382</td>\n",
       "    </tr>\n",
       "  </tbody>\n",
       "</table>\n",
       "</div>"
      ],
      "text/plain": [
       "   depth   val_acc  train_time\n",
       "0      1  0.933000   12.830817\n",
       "1      2  0.941667   13.491834\n",
       "2      3  0.945333   12.411852\n",
       "3      4  0.955167   13.163349\n",
       "4      5  0.958500   13.765382"
      ]
     },
     "metadata": {},
     "output_type": "display_data"
    }
   ],
   "source": [
    "results3 = []\n",
    "depths = [1, 2, 3, 4, 5]\n",
    "for d in depths:\n",
    "    cfg = {'hidden_layers': [100]*d,\n",
    "           'activations': ['relu']*d,\n",
    "           'learning_rate': 0.01}\n",
    "    res = run_experiment(cfg, epochs=10)\n",
    "    results3.append({'depth': d,\n",
    "                     'val_acc': res['val_accuracy'],\n",
    "                     'train_time': res['train_time']})\n",
    "\n",
    "df3 = pd.DataFrame(results3)\n",
    "display(df3)"
   ]
  },
  {
   "cell_type": "markdown",
   "id": "f6e3b152",
   "metadata": {},
   "source": [
    "## Ejercicio 4: Función de Activación Sigmoide (8 pts)\n",
    "\n",
    "Objetivo: Evaluar redes usando sigmoid en todas las capas."
   ]
  },
  {
   "cell_type": "code",
   "execution_count": 5,
   "id": "03c14f3c",
   "metadata": {},
   "outputs": [
    {
     "name": "stderr",
     "output_type": "stream",
     "text": [
      "c:\\Users\\user\\AppData\\Local\\Programs\\Python\\Python312\\Lib\\site-packages\\keras\\src\\layers\\core\\input_layer.py:27: UserWarning: Argument `input_shape` is deprecated. Use `shape` instead.\n",
      "  warnings.warn(\n"
     ]
    },
    {
     "name": "stdout",
     "output_type": "stream",
     "text": [
      "Sigmoid -> val_acc=0.8025, time=14.72s\n"
     ]
    }
   ],
   "source": [
    "cfg_sig = {'hidden_layers': [200, 100],\n",
    "           'activations': ['sigmoid', 'sigmoid'],\n",
    "           'learning_rate': 0.01}\n",
    "res_sig = run_experiment(cfg_sig)\n",
    "print(f\"Sigmoid -> val_acc={res_sig['val_accuracy']:.4f}, time={res_sig['train_time']:.2f}s\")"
   ]
  },
  {
   "cell_type": "markdown",
   "id": "e4363592",
   "metadata": {},
   "source": [
    "## Ejercicio 5: Combinación de Activaciones (8 pts)\n",
    "\n",
    "Objetivo: Usar ReLU en la primera capa y tanh en la segunda."
   ]
  },
  {
   "cell_type": "code",
   "execution_count": 6,
   "id": "a6b85086",
   "metadata": {},
   "outputs": [
    {
     "name": "stdout",
     "output_type": "stream",
     "text": [
      "ReLU+TanH -> val_acc=0.9475, time=15.39s\n"
     ]
    }
   ],
   "source": [
    "cfg_mix = {'hidden_layers': [200, 100],\n",
    "           'activations': ['relu', 'tanh'],\n",
    "           'learning_rate': 0.01}\n",
    "res_mix = run_experiment(cfg_mix)\n",
    "print(f\"ReLU+TanH -> val_acc={res_mix['val_accuracy']:.4f}, time={res_mix['train_time']:.2f}s\")"
   ]
  },
  {
   "cell_type": "markdown",
   "id": "16114690",
   "metadata": {},
   "source": [
    "Ventajas vs Desventajas: Compara con sigmoide y ReLU puro."
   ]
  },
  {
   "cell_type": "markdown",
   "id": "370a8a76",
   "metadata": {},
   "source": [
    "## Ejercicio 6: Batch Grande (5 pts)\n",
    "\n",
    "Objetivo: Analizar Batch size = 10 000."
   ]
  },
  {
   "cell_type": "code",
   "execution_count": 7,
   "id": "4afaac51",
   "metadata": {},
   "outputs": [
    {
     "name": "stdout",
     "output_type": "stream",
     "text": [
      "Batch=10000 -> val_acc=0.6130, time=3.74s\n"
     ]
    }
   ],
   "source": [
    "res_big = run_experiment(base_cfg, epochs=10, batch_size=10000)\n",
    "print(f\"Batch=10000 -> val_acc={res_big['val_accuracy']:.4f}, time={res_big['train_time']:.2f}s\")"
   ]
  },
  {
   "cell_type": "markdown",
   "id": "4cfc43fa",
   "metadata": {},
   "source": [
    "## Ejercicio 7: SGD (Batch=1) (5 pts)\n",
    "\n",
    "Objetivo: Ver efecto de entrenamiento completamente estocástico."
   ]
  },
  {
   "cell_type": "code",
   "execution_count": 8,
   "id": "1f1fa0ed",
   "metadata": {},
   "outputs": [
    {
     "name": "stdout",
     "output_type": "stream",
     "text": [
      "Batch=1 -> val_acc=0.9822, time=903.75s\n"
     ]
    }
   ],
   "source": [
    "res_sgd = run_experiment(base_cfg, epochs=10, batch_size=1)\n",
    "print(f\"Batch=1 -> val_acc={res_sgd['val_accuracy']:.4f}, time={res_sgd['train_time']:.2f}s\")"
   ]
  },
  {
   "cell_type": "markdown",
   "id": "fb55964d",
   "metadata": {},
   "source": [
    "Comparación: Tabla para batch=1 vs batch=10000."
   ]
  },
  {
   "cell_type": "markdown",
   "id": "4fbc3ad2",
   "metadata": {},
   "source": [
    "## Ejercicio 8: Tasa de Aprendizaje Baja (4 pts)\n",
    "\n",
    "Objetivo: lr = 0.0001."
   ]
  },
  {
   "cell_type": "code",
   "execution_count": 9,
   "id": "3cc2a11e",
   "metadata": {},
   "outputs": [
    {
     "name": "stdout",
     "output_type": "stream",
     "text": [
      "LR=0.0001 -> val_acc=0.4640\n"
     ]
    }
   ],
   "source": [
    "res_lr_low = run_experiment({'hidden_layers':[200], 'activations':['relu'], 'learning_rate':0.0001})\n",
    "print(f\"LR=0.0001 -> val_acc={res_lr_low['val_accuracy']:.4f}\")"
   ]
  },
  {
   "cell_type": "markdown",
   "id": "bfc3004c",
   "metadata": {},
   "source": [
    "## Ejercicio 9: Tasa de Aprendizaje Alta (4 pts)\n",
    "\n",
    "Objetivo: lr = 0.02."
   ]
  },
  {
   "cell_type": "code",
   "execution_count": 10,
   "id": "cac56858",
   "metadata": {},
   "outputs": [
    {
     "name": "stdout",
     "output_type": "stream",
     "text": [
      "LR=0.02 -> val_acc=0.9467\n"
     ]
    }
   ],
   "source": [
    "res_lr_high = run_experiment({'hidden_layers':[200], 'activations':['relu'], 'learning_rate':0.02})\n",
    "print(f\"LR=0.02 -> val_acc={res_lr_high['val_accuracy']:.4f}\")"
   ]
  },
  {
   "cell_type": "markdown",
   "id": "dd926e71",
   "metadata": {},
   "source": [
    "Observación: Inestabilidad y posible divergencia."
   ]
  },
  {
   "cell_type": "markdown",
   "id": "fcbce1a1",
   "metadata": {},
   "source": [
    "## Ejercicio 10: Regularización y Dropout (10 pts)\n",
    "\n",
    "Objetivo: Combinar Dropout y L2 para mejorar generalización."
   ]
  },
  {
   "cell_type": "code",
   "execution_count": 11,
   "id": "ad96379a",
   "metadata": {},
   "outputs": [
    {
     "name": "stdout",
     "output_type": "stream",
     "text": [
      "Dropout+L2 -> val_acc=0.9358, time=15.81s\n"
     ]
    }
   ],
   "source": [
    "cfg_adv = {'hidden_layers':[200,100],\n",
    "           'activations':['relu','relu'],\n",
    "           'learning_rate':0.01,\n",
    "           'dropout_rate':0.5,\n",
    "           'l2_reg':1e-4}\n",
    "res_adv = run_experiment(cfg_adv)\n",
    "print(f\"Dropout+L2 -> val_acc={res_adv['val_accuracy']:.4f}, time={res_adv['train_time']:.2f}s\")"
   ]
  },
  {
   "cell_type": "markdown",
   "id": "926d68f9",
   "metadata": {},
   "source": [
    "## Ejercicio 11: Visualización de Resultados (5 pts)\n",
    "\n",
    "Objetivo: Graficar precisión y tiempo de los ejercicios relevantes."
   ]
  },
  {
   "cell_type": "code",
   "execution_count": 12,
   "id": "956fbf3c",
   "metadata": {},
   "outputs": [
    {
     "data": {
      "image/png": "[encoded data removed]",
      "text/plain": [
       "<Figure size 640x480 with 1 Axes>"
      ]
     },
     "metadata": {},
     "output_type": "display_data"
    },
    {
     "data": {
      "image/png": "[encoded data removed]",
      "text/plain": [
       "<Figure size 640x480 with 1 Axes>"
      ]
     },
     "metadata": {},
     "output_type": "display_data"
    }
   ],
   "source": [
    "# Precisión vs Ancho (Ej1)\n",
    "df1.plot(x='size', y='val_acc', marker='o', title='Val Accuracy vs Ancho')\n",
    "plt.ylabel('Val Accuracy')\n",
    "plt.show()\n",
    "\n",
    "# Tiempo vs Profundidad (Ej3)\n",
    "df3.plot(x='depth', y='train_time', marker='o', title='Train Time vs Profundidad')\n",
    "plt.ylabel('Train Time (s)')\n",
    "plt.show()"
   ]
  },
  {
   "cell_type": "markdown",
   "id": "b0e60ba6",
   "metadata": {},
   "source": [
    "## Ejercicio 12: Modelo Óptimo (14 pts)\n",
    "\n",
    "Objetivo: Con base en los experimentos, seleccionar configuración que alcance ≥98.5% de precisión."
   ]
  },
  {
   "cell_type": "code",
   "execution_count": 13,
   "id": "2cc6fe38",
   "metadata": {},
   "outputs": [
    {
     "name": "stderr",
     "output_type": "stream",
     "text": [
      "c:\\Users\\user\\AppData\\Local\\Programs\\Python\\Python312\\Lib\\site-packages\\keras\\src\\layers\\core\\input_layer.py:27: UserWarning: Argument `input_shape` is deprecated. Use `shape` instead.\n",
      "  warnings.warn(\n"
     ]
    },
    {
     "name": "stdout",
     "output_type": "stream",
     "text": [
      "Óptimo -> val_acc=0.9407, time=28.20s\n"
     ]
    }
   ],
   "source": [
    "opt_cfg = {'hidden_layers':[300,150],\n",
    "           'activations':['relu','relu'],\n",
    "           'learning_rate':0.005,\n",
    "           'dropout_rate':0.3,\n",
    "           'l2_reg':1e-4}\n",
    "res_opt = run_experiment(opt_cfg, epochs=15)\n",
    "print(f\"Óptimo -> val_acc={res_opt['val_accuracy']:.4f}, time={res_opt['train_time']:.2f}s\")"
   ]
  },
  {
   "cell_type": "markdown",
   "id": "af9190f3",
   "metadata": {},
   "source": [
    "Conclusión: Documenta por qué esta combinación brinda el mejor compromiso entre precisión y costo computacional."
   ]
  }
 ],
 "metadata": {
  "kernelspec": {
   "display_name": "Python 3",
   "language": "python",
   "name": "python3"
  },
  "language_info": {
   "codemirror_mode": {
    "name": "ipython",
    "version": 3
   },
   "file_extension": ".py",
   "mimetype": "text/x-python",
   "name": "python",
   "nbconvert_exporter": "python",
   "pygments_lexer": "ipython3",
   "version": "3.12.3"
  }
 },
 "nbformat": 4,
 "nbformat_minor": 5
}
