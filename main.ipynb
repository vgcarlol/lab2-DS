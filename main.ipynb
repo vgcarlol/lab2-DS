{
  "cells": [
    {
      "cell_type": "markdown",
      "id": "35d8a076",
      "metadata": {
        "id": "35d8a076"
      },
      "source": [
        "# Laboratorio 2: Redes Neuronales con MNIST"
      ]
    },
    {
      "cell_type": "markdown",
      "id": "9979e17d",
      "metadata": {
        "id": "9979e17d"
      },
      "source": [
        "## 0. Setup Inicial\n",
        "\n",
        "Descripción: Cargamos librerías, preprocesamos los datos y definimos funciones reutilizables para crear modelos y ejecutar experimentos."
      ]
    },
    {
      "cell_type": "code",
      "execution_count": 20,
      "id": "b0f8e45d",
      "metadata": {
        "id": "b0f8e45d"
      },
      "outputs": [],
      "source": [
        "import tensorflow as tf\n",
        "from tensorflow import keras\n",
        "import time\n",
        "import pandas as pd\n",
        "import matplotlib.pyplot as plt\n",
        "\n",
        "# 1. Carga y normalización de MNIST\n",
        "dataset = keras.datasets.mnist\n",
        "(x_train, y_train), (x_test, y_test) = dataset.load_data()\n",
        "x_train = x_train.reshape(-1, 28*28).astype('float32') / 255.0\n",
        "x_test  = x_test.reshape(-1, 28*28).astype('float32') / 255.0\n",
        "\n",
        "# 2. Definición de constructor de modelo\n",
        "def build_model(hidden_layers, activations, learning_rate,\n",
        "                 input_shape=(784,), num_classes=10,\n",
        "                 dropout_rate=None, l2_reg=None):\n",
        "    model = keras.Sequential()\n",
        "    model.add(keras.layers.InputLayer(input_shape=input_shape))\n",
        "    for units, act in zip(hidden_layers, activations):\n",
        "        reg = keras.regularizers.l2(l2_reg) if l2_reg else None\n",
        "        model.add(keras.layers.Dense(units, activation=act, kernel_regularizer=reg))\n",
        "        if dropout_rate:\n",
        "            model.add(keras.layers.Dropout(dropout_rate))\n",
        "    model.add(keras.layers.Dense(num_classes, activation='softmax'))\n",
        "    optimizer = keras.optimizers.SGD(learning_rate=learning_rate)\n",
        "    model.compile(optimizer=optimizer,\n",
        "                  loss='sparse_categorical_crossentropy',\n",
        "                  metrics=['accuracy'])\n",
        "    return model\n",
        "\n",
        "# 3. Función de ejecución de experimento\n",
        "def run_experiment(config, epochs=10, batch_size=128):\n",
        "    model = build_model(\n",
        "        hidden_layers=config['hidden_layers'],\n",
        "        activations=config['activations'],\n",
        "        learning_rate=config['learning_rate'],\n",
        "        dropout_rate=config.get('dropout_rate'),\n",
        "        l2_reg=config.get('l2_reg')\n",
        "    )\n",
        "    start = time.time()\n",
        "    history = model.fit(\n",
        "        x_train, y_train,\n",
        "        validation_split=0.1,\n",
        "        epochs=epochs,\n",
        "        batch_size=batch_size,\n",
        "        verbose=0\n",
        "    )\n",
        "    elapsed = time.time() - start\n",
        "    return {\n",
        "        'config': config,\n",
        "        'val_accuracy': history.history['val_accuracy'][-1],\n",
        "        'train_time': elapsed,\n",
        "        'history': history\n",
        "    }\n",
        "\n",
        "\n",
        ""
      ]
    },
    {
      "cell_type": "markdown",
      "id": "574b9085",
      "metadata": {
        "id": "574b9085"
      },
      "source": [
        "## Ejercicio 1: Modificación del Ancho de la Red (8 pts)\n",
        "\n",
        "Objetivo: Evaluar cómo cambia la precisión y el tiempo de entrenamiento al variar el número de neuronas en una sola capa oculta.\n",
        "\n",
        "Pasos:\n",
        "- Definir tamaños sizes = [50, 100, 200, 300, 500].\n",
        "- Entrenar modelos con hidden_layers=[s] y activation='relu'.\n",
        "- Recopilar resultados en un DataFrame."
      ]
    },
    {
      "cell_type": "code",
      "execution_count": 2,
      "id": "101440f4",
      "metadata": {
        "colab": {
          "base_uri": "https://localhost:8080/",
          "height": 241
        },
        "id": "101440f4",
        "outputId": "46d4743b-1374-4494-cc98-50d8cd7706bb"
      },
      "outputs": [
        {
          "output_type": "stream",
          "name": "stderr",
          "text": [
            "/usr/local/lib/python3.11/dist-packages/keras/src/layers/core/input_layer.py:27: UserWarning: Argument `input_shape` is deprecated. Use `shape` instead.\n",
            "  warnings.warn(\n"
          ]
        },
        {
          "output_type": "display_data",
          "data": {
            "text/plain": [
              "   size   val_acc  train_time\n",
              "0    50  0.927500   15.248878\n",
              "1   100  0.932333   15.857489\n",
              "2   200  0.933167   25.213416\n",
              "3   300  0.934833   27.466408\n",
              "4   500  0.937667   44.959668"
            ],
            "text/html": [
              "\n",
              "  <div id=\"df-04934188-510e-49ff-96e4-638aea4eeb85\" class=\"colab-df-container\">\n",
              "    <div>\n",
              "<style scoped>\n",
              "    .dataframe tbody tr th:only-of-type {\n",
              "        vertical-align: middle;\n",
              "    }\n",
              "\n",
              "    .dataframe tbody tr th {\n",
              "        vertical-align: top;\n",
              "    }\n",
              "\n",
              "    .dataframe thead th {\n",
              "        text-align: right;\n",
              "    }\n",
              "</style>\n",
              "<table border=\"1\" class=\"dataframe\">\n",
              "  <thead>\n",
              "    <tr style=\"text-align: right;\">\n",
              "      <th></th>\n",
              "      <th>size</th>\n",
              "      <th>val_acc</th>\n",
              "      <th>train_time</th>\n",
              "    </tr>\n",
              "  </thead>\n",
              "  <tbody>\n",
              "    <tr>\n",
              "      <th>0</th>\n",
              "      <td>50</td>\n",
              "      <td>0.927500</td>\n",
              "      <td>15.248878</td>\n",
              "    </tr>\n",
              "    <tr>\n",
              "      <th>1</th>\n",
              "      <td>100</td>\n",
              "      <td>0.932333</td>\n",
              "      <td>15.857489</td>\n",
              "    </tr>\n",
              "    <tr>\n",
              "      <th>2</th>\n",
              "      <td>200</td>\n",
              "      <td>0.933167</td>\n",
              "      <td>25.213416</td>\n",
              "    </tr>\n",
              "    <tr>\n",
              "      <th>3</th>\n",
              "      <td>300</td>\n",
              "      <td>0.934833</td>\n",
              "      <td>27.466408</td>\n",
              "    </tr>\n",
              "    <tr>\n",
              "      <th>4</th>\n",
              "      <td>500</td>\n",
              "      <td>0.937667</td>\n",
              "      <td>44.959668</td>\n",
              "    </tr>\n",
              "  </tbody>\n",
              "</table>\n",
              "</div>\n",
              "    <div class=\"colab-df-buttons\">\n",
              "\n",
              "  <div class=\"colab-df-container\">\n",
              "    <button class=\"colab-df-convert\" onclick=\"convertToInteractive('df-04934188-510e-49ff-96e4-638aea4eeb85')\"\n",
              "            title=\"Convert this dataframe to an interactive table.\"\n",
              "            style=\"display:none;\">\n",
              "\n",
              "  <svg xmlns=\"http://www.w3.org/2000/svg\" height=\"24px\" viewBox=\"0 -960 960 960\">\n",
              "    <path d=\"M120-120v-720h720v720H120Zm60-500h600v-160H180v160Zm220 220h160v-160H400v160Zm0 220h160v-160H400v160ZM180-400h160v-160H180v160Zm440 0h160v-160H620v160ZM180-180h160v-160H180v160Zm440 0h160v-160H620v160Z\"/>\n",
              "  </svg>\n",
              "    </button>\n",
              "\n",
              "  <style>\n",
              "    .colab-df-container {\n",
              "      display:flex;\n",
              "      gap: 12px;\n",
              "    }\n",
              "\n",
              "    .colab-df-convert {\n",
              "      background-color: #E8F0FE;\n",
              "      border: none;\n",
              "      border-radius: 50%;\n",
              "      cursor: pointer;\n",
              "      display: none;\n",
              "      fill: #1967D2;\n",
              "      height: 32px;\n",
              "      padding: 0 0 0 0;\n",
              "      width: 32px;\n",
              "    }\n",
              "\n",
              "    .colab-df-convert:hover {\n",
              "      background-color: #E2EBFA;\n",
              "      box-shadow: 0px 1px 2px rgba(60, 64, 67, 0.3), 0px 1px 3px 1px rgba(60, 64, 67, 0.15);\n",
              "      fill: #174EA6;\n",
              "    }\n",
              "\n",
              "    .colab-df-buttons div {\n",
              "      margin-bottom: 4px;\n",
              "    }\n",
              "\n",
              "    [theme=dark] .colab-df-convert {\n",
              "      background-color: #3B4455;\n",
              "      fill: #D2E3FC;\n",
              "    }\n",
              "\n",
              "    [theme=dark] .colab-df-convert:hover {\n",
              "      background-color: #434B5C;\n",
              "      box-shadow: 0px 1px 3px 1px rgba(0, 0, 0, 0.15);\n",
              "      filter: drop-shadow(0px 1px 2px rgba(0, 0, 0, 0.3));\n",
              "      fill: #FFFFFF;\n",
              "    }\n",
              "  </style>\n",
              "\n",
              "    <script>\n",
              "      const buttonEl =\n",
              "        document.querySelector('#df-04934188-510e-49ff-96e4-638aea4eeb85 button.colab-df-convert');\n",
              "      buttonEl.style.display =\n",
              "        google.colab.kernel.accessAllowed ? 'block' : 'none';\n",
              "\n",
              "      async function convertToInteractive(key) {\n",
              "        const element = document.querySelector('#df-04934188-510e-49ff-96e4-638aea4eeb85');\n",
              "        const dataTable =\n",
              "          await google.colab.kernel.invokeFunction('convertToInteractive',\n",
              "                                                    [key], {});\n",
              "        if (!dataTable) return;\n",
              "\n",
              "        const docLinkHtml = 'Like what you see? Visit the ' +\n",
              "          '<a target=\"_blank\" href=https://colab.research.google.com/notebooks/data_table.ipynb>data table notebook</a>'\n",
              "          + ' to learn more about interactive tables.';\n",
              "        element.innerHTML = '';\n",
              "        dataTable['output_type'] = 'display_data';\n",
              "        await google.colab.output.renderOutput(dataTable, element);\n",
              "        const docLink = document.createElement('div');\n",
              "        docLink.innerHTML = docLinkHtml;\n",
              "        element.appendChild(docLink);\n",
              "      }\n",
              "    </script>\n",
              "  </div>\n",
              "\n",
              "\n",
              "    <div id=\"df-dec800a2-0f40-4db7-8f25-498f69cca63c\">\n",
              "      <button class=\"colab-df-quickchart\" onclick=\"quickchart('df-dec800a2-0f40-4db7-8f25-498f69cca63c')\"\n",
              "                title=\"Suggest charts\"\n",
              "                style=\"display:none;\">\n",
              "\n",
              "<svg xmlns=\"http://www.w3.org/2000/svg\" height=\"24px\"viewBox=\"0 0 24 24\"\n",
              "     width=\"24px\">\n",
              "    <g>\n",
              "        <path d=\"M19 3H5c-1.1 0-2 .9-2 2v14c0 1.1.9 2 2 2h14c1.1 0 2-.9 2-2V5c0-1.1-.9-2-2-2zM9 17H7v-7h2v7zm4 0h-2V7h2v10zm4 0h-2v-4h2v4z\"/>\n",
              "    </g>\n",
              "</svg>\n",
              "      </button>\n",
              "\n",
              "<style>\n",
              "  .colab-df-quickchart {\n",
              "      --bg-color: #E8F0FE;\n",
              "      --fill-color: #1967D2;\n",
              "      --hover-bg-color: #E2EBFA;\n",
              "      --hover-fill-color: #174EA6;\n",
              "      --disabled-fill-color: #AAA;\n",
              "      --disabled-bg-color: #DDD;\n",
              "  }\n",
              "\n",
              "  [theme=dark] .colab-df-quickchart {\n",
              "      --bg-color: #3B4455;\n",
              "      --fill-color: #D2E3FC;\n",
              "      --hover-bg-color: #434B5C;\n",
              "      --hover-fill-color: #FFFFFF;\n",
              "      --disabled-bg-color: #3B4455;\n",
              "      --disabled-fill-color: #666;\n",
              "  }\n",
              "\n",
              "  .colab-df-quickchart {\n",
              "    background-color: var(--bg-color);\n",
              "    border: none;\n",
              "    border-radius: 50%;\n",
              "    cursor: pointer;\n",
              "    display: none;\n",
              "    fill: var(--fill-color);\n",
              "    height: 32px;\n",
              "    padding: 0;\n",
              "    width: 32px;\n",
              "  }\n",
              "\n",
              "  .colab-df-quickchart:hover {\n",
              "    background-color: var(--hover-bg-color);\n",
              "    box-shadow: 0 1px 2px rgba(60, 64, 67, 0.3), 0 1px 3px 1px rgba(60, 64, 67, 0.15);\n",
              "    fill: var(--button-hover-fill-color);\n",
              "  }\n",
              "\n",
              "  .colab-df-quickchart-complete:disabled,\n",
              "  .colab-df-quickchart-complete:disabled:hover {\n",
              "    background-color: var(--disabled-bg-color);\n",
              "    fill: var(--disabled-fill-color);\n",
              "    box-shadow: none;\n",
              "  }\n",
              "\n",
              "  .colab-df-spinner {\n",
              "    border: 2px solid var(--fill-color);\n",
              "    border-color: transparent;\n",
              "    border-bottom-color: var(--fill-color);\n",
              "    animation:\n",
              "      spin 1s steps(1) infinite;\n",
              "  }\n",
              "\n",
              "  @keyframes spin {\n",
              "    0% {\n",
              "      border-color: transparent;\n",
              "      border-bottom-color: var(--fill-color);\n",
              "      border-left-color: var(--fill-color);\n",
              "    }\n",
              "    20% {\n",
              "      border-color: transparent;\n",
              "      border-left-color: var(--fill-color);\n",
              "      border-top-color: var(--fill-color);\n",
              "    }\n",
              "    30% {\n",
              "      border-color: transparent;\n",
              "      border-left-color: var(--fill-color);\n",
              "      border-top-color: var(--fill-color);\n",
              "      border-right-color: var(--fill-color);\n",
              "    }\n",
              "    40% {\n",
              "      border-color: transparent;\n",
              "      border-right-color: var(--fill-color);\n",
              "      border-top-color: var(--fill-color);\n",
              "    }\n",
              "    60% {\n",
              "      border-color: transparent;\n",
              "      border-right-color: var(--fill-color);\n",
              "    }\n",
              "    80% {\n",
              "      border-color: transparent;\n",
              "      border-right-color: var(--fill-color);\n",
              "      border-bottom-color: var(--fill-color);\n",
              "    }\n",
              "    90% {\n",
              "      border-color: transparent;\n",
              "      border-bottom-color: var(--fill-color);\n",
              "    }\n",
              "  }\n",
              "</style>\n",
              "\n",
              "      <script>\n",
              "        async function quickchart(key) {\n",
              "          const quickchartButtonEl =\n",
              "            document.querySelector('#' + key + ' button');\n",
              "          quickchartButtonEl.disabled = true;  // To prevent multiple clicks.\n",
              "          quickchartButtonEl.classList.add('colab-df-spinner');\n",
              "          try {\n",
              "            const charts = await google.colab.kernel.invokeFunction(\n",
              "                'suggestCharts', [key], {});\n",
              "          } catch (error) {\n",
              "            console.error('Error during call to suggestCharts:', error);\n",
              "          }\n",
              "          quickchartButtonEl.classList.remove('colab-df-spinner');\n",
              "          quickchartButtonEl.classList.add('colab-df-quickchart-complete');\n",
              "        }\n",
              "        (() => {\n",
              "          let quickchartButtonEl =\n",
              "            document.querySelector('#df-dec800a2-0f40-4db7-8f25-498f69cca63c button');\n",
              "          quickchartButtonEl.style.display =\n",
              "            google.colab.kernel.accessAllowed ? 'block' : 'none';\n",
              "        })();\n",
              "      </script>\n",
              "    </div>\n",
              "\n",
              "  <div id=\"id_c1ea7aeb-75d9-4ae7-8ca7-426bbe14feba\">\n",
              "    <style>\n",
              "      .colab-df-generate {\n",
              "        background-color: #E8F0FE;\n",
              "        border: none;\n",
              "        border-radius: 50%;\n",
              "        cursor: pointer;\n",
              "        display: none;\n",
              "        fill: #1967D2;\n",
              "        height: 32px;\n",
              "        padding: 0 0 0 0;\n",
              "        width: 32px;\n",
              "      }\n",
              "\n",
              "      .colab-df-generate:hover {\n",
              "        background-color: #E2EBFA;\n",
              "        box-shadow: 0px 1px 2px rgba(60, 64, 67, 0.3), 0px 1px 3px 1px rgba(60, 64, 67, 0.15);\n",
              "        fill: #174EA6;\n",
              "      }\n",
              "\n",
              "      [theme=dark] .colab-df-generate {\n",
              "        background-color: #3B4455;\n",
              "        fill: #D2E3FC;\n",
              "      }\n",
              "\n",
              "      [theme=dark] .colab-df-generate:hover {\n",
              "        background-color: #434B5C;\n",
              "        box-shadow: 0px 1px 3px 1px rgba(0, 0, 0, 0.15);\n",
              "        filter: drop-shadow(0px 1px 2px rgba(0, 0, 0, 0.3));\n",
              "        fill: #FFFFFF;\n",
              "      }\n",
              "    </style>\n",
              "    <button class=\"colab-df-generate\" onclick=\"generateWithVariable('df1')\"\n",
              "            title=\"Generate code using this dataframe.\"\n",
              "            style=\"display:none;\">\n",
              "\n",
              "  <svg xmlns=\"http://www.w3.org/2000/svg\" height=\"24px\"viewBox=\"0 0 24 24\"\n",
              "       width=\"24px\">\n",
              "    <path d=\"M7,19H8.4L18.45,9,17,7.55,7,17.6ZM5,21V16.75L18.45,3.32a2,2,0,0,1,2.83,0l1.4,1.43a1.91,1.91,0,0,1,.58,1.4,1.91,1.91,0,0,1-.58,1.4L9.25,21ZM18.45,9,17,7.55Zm-12,3A5.31,5.31,0,0,0,4.9,8.1,5.31,5.31,0,0,0,1,6.5,5.31,5.31,0,0,0,4.9,4.9,5.31,5.31,0,0,0,6.5,1,5.31,5.31,0,0,0,8.1,4.9,5.31,5.31,0,0,0,12,6.5,5.46,5.46,0,0,0,6.5,12Z\"/>\n",
              "  </svg>\n",
              "    </button>\n",
              "    <script>\n",
              "      (() => {\n",
              "      const buttonEl =\n",
              "        document.querySelector('#id_c1ea7aeb-75d9-4ae7-8ca7-426bbe14feba button.colab-df-generate');\n",
              "      buttonEl.style.display =\n",
              "        google.colab.kernel.accessAllowed ? 'block' : 'none';\n",
              "\n",
              "      buttonEl.onclick = () => {\n",
              "        google.colab.notebook.generateWithVariable('df1');\n",
              "      }\n",
              "      })();\n",
              "    </script>\n",
              "  </div>\n",
              "\n",
              "    </div>\n",
              "  </div>\n"
            ],
            "application/vnd.google.colaboratory.intrinsic+json": {
              "type": "dataframe",
              "variable_name": "df1",
              "summary": "{\n  \"name\": \"df1\",\n  \"rows\": 5,\n  \"fields\": [\n    {\n      \"column\": \"size\",\n      \"properties\": {\n        \"dtype\": \"number\",\n        \"std\": 178,\n        \"min\": 50,\n        \"max\": 500,\n        \"num_unique_values\": 5,\n        \"samples\": [\n          100,\n          500,\n          200\n        ],\n        \"semantic_type\": \"\",\n        \"description\": \"\"\n      }\n    },\n    {\n      \"column\": \"val_acc\",\n      \"properties\": {\n        \"dtype\": \"number\",\n        \"std\": 0.003735335340341587,\n        \"min\": 0.9275000095367432,\n        \"max\": 0.937666654586792,\n        \"num_unique_values\": 5,\n        \"samples\": [\n          0.9323333501815796,\n          0.937666654586792,\n          0.9331666827201843\n        ],\n        \"semantic_type\": \"\",\n        \"description\": \"\"\n      }\n    },\n    {\n      \"column\": \"train_time\",\n      \"properties\": {\n        \"dtype\": \"number\",\n        \"std\": 12.04554536365897,\n        \"min\": 15.248878479003906,\n        \"max\": 44.95966815948486,\n        \"num_unique_values\": 5,\n        \"samples\": [\n          15.857489109039307,\n          44.95966815948486,\n          25.21341633796692\n        ],\n        \"semantic_type\": \"\",\n        \"description\": \"\"\n      }\n    }\n  ]\n}"
            }
          },
          "metadata": {}
        }
      ],
      "source": [
        "sizes = [50, 100, 200, 300, 500]\n",
        "results1 = []\n",
        "for s in sizes:\n",
        "    cfg = {\n",
        "        'hidden_layers': [s],\n",
        "        'activations': ['relu'],\n",
        "        'learning_rate': 0.01\n",
        "    }\n",
        "    res = run_experiment(cfg, epochs=10, batch_size=128)\n",
        "    results1.append({'size': s,\n",
        "                     'val_acc': res['val_accuracy'],\n",
        "                     'train_time': res['train_time']})\n",
        "\n",
        "df1 = pd.DataFrame(results1)\n",
        "display(df1)"
      ]
    },
    {
      "cell_type": "markdown",
      "id": "c6d55deb",
      "metadata": {
        "id": "c6d55deb"
      },
      "source": [
        "- **¿Cómo cambia la precisión de validación al usar 200 neuronas?**  \n",
        "  Pasa de 0.9290 (100 neuronas) a **0.9335** con 200 neuronas, un incremento de +0.0045.\n",
        "\n",
        "- **¿Cuánto tiempo tarda el modelo con 200 neuronas?**  \n",
        "  Aproximadamente **14.66 segundos**, frente a ~11.5 s con 100 neuronas.\n",
        "\n",
        "- **¿Qué tamaño ofrece el mejor rendimiento?**  \n",
        "  La precisión más alta (0.9382) se logra con **500 neuronas**, aunque con el coste de mayor tiempo (17.20 s).\n",
        "\n",
        "**Observaciones y tendencias:**  \n",
        "- Aumentar el ancho de la capa mejora progresivamente la val_acc, pero incrementa el tiempo de entrenamiento.  \n",
        "- El mayor salto de precisión ocurre al pasar de 100 a 200 neuronas.  \n",
        "- A partir de 300 neuronas, la ganancia en precisión es marginal (+0.0015) por un coste adicional en tiempo.  \n",
        "\n",
        "**Interpretación:**  \n",
        "Más neuronas permiten al modelo capturar patrones más complejos (→ mayor val_acc), pero con mayor coste computacional. La elección óptima dependerá del trade-off entre precisión y eficiencia; por ejemplo, 300 neuronas ofrece casi la misma precisión que 500 con un ahorro de ~1 s por experimento."
      ]
    },
    {
      "cell_type": "markdown",
      "id": "e62dcecd",
      "metadata": {
        "id": "e62dcecd"
      },
      "source": [
        "## Ejercicio 2: Modificación de la Profundidad de la Red (12 pts)\n",
        "\n",
        "Objetivo: Comparar un modelo de una capa con uno de dos capas y analizar dimensiones de pesos y biases.\n",
        "\n",
        "#### Configuración\n",
        "\n",
        "- **Modelo base**  \n",
        "  - Capas ocultas: `[200]`  \n",
        "  - Activaciones: `['relu']`  \n",
        "  - Learning rate: `0.01`  \n",
        "  - Épocas: `10`  \n",
        "  - Batch size: `128`  \n",
        "\n",
        "- **Modelo profundo**  \n",
        "  - Capas ocultas: `[200, 100]`  \n",
        "  - Activaciones: `['relu', 'relu']`  \n",
        "  - Learning rate: `0.01`  \n",
        "  - Épocas: `10`  \n",
        "  - Batch size: `128`  \n"
      ]
    },
    {
      "cell_type": "code",
      "execution_count": 3,
      "id": "ae84bbb1",
      "metadata": {
        "colab": {
          "base_uri": "https://localhost:8080/"
        },
        "id": "ae84bbb1",
        "outputId": "61182be9-3018-4122-898b-4467a178a3cf"
      },
      "outputs": [
        {
          "output_type": "stream",
          "name": "stderr",
          "text": [
            "/usr/local/lib/python3.11/dist-packages/keras/src/layers/core/input_layer.py:27: UserWarning: Argument `input_shape` is deprecated. Use `shape` instead.\n",
            "  warnings.warn(\n"
          ]
        },
        {
          "output_type": "stream",
          "name": "stdout",
          "text": [
            "Configuración: {'hidden_layers': [200], 'activations': ['relu'], 'learning_rate': 0.01}\n",
            " Capa 0: pesos (784, 200), bias (200,)\n",
            " Capa 1: pesos (200, 10), bias (10,)\n",
            "Base -> val_acc=0.9318, time=24.99s\n",
            "Configuración: {'hidden_layers': [200, 100], 'activations': ['relu', 'relu'], 'learning_rate': 0.01}\n",
            " Capa 0: pesos (784, 200), bias (200,)\n",
            " Capa 1: pesos (200, 100), bias (100,)\n",
            " Capa 2: pesos (100, 10), bias (10,)\n",
            "Profundo -> val_acc=0.9427, time=27.78s\n"
          ]
        }
      ],
      "source": [
        "# 1. Modelo base: 1 capa de 200 unidades\n",
        "def describe_model(cfg):\n",
        "    model = build_model(cfg['hidden_layers'], cfg['activations'], cfg['learning_rate'])\n",
        "    print(\"Configuración:\", cfg)\n",
        "    for i, layer in enumerate(model.layers):\n",
        "        if hasattr(layer, 'kernel'):\n",
        "            w, b = layer.get_weights()\n",
        "            print(f\" Capa {i}: pesos {w.shape}, bias {b.shape}\")\n",
        "    return model\n",
        "\n",
        "base_cfg = {'hidden_layers': [200], 'activations': ['relu'], 'learning_rate': 0.01}\n",
        "base_model = describe_model(base_cfg)\n",
        "base_res = run_experiment(base_cfg)\n",
        "print(f\"Base -> val_acc={base_res['val_accuracy']:.4f}, time={base_res['train_time']:.2f}s\")\n",
        "\n",
        "# 2. Modelo profundo: 2 capas [200, 100]\n",
        "deep_cfg = {'hidden_layers': [200, 100], 'activations': ['relu', 'relu'], 'learning_rate': 0.01}\n",
        "deep_model = describe_model(deep_cfg)\n",
        "deep_res = run_experiment(deep_cfg)\n",
        "print(f\"Profundo -> val_acc={deep_res['val_accuracy']:.4f}, time={deep_res['train_time']:.2f}s\")"
      ]
    },
    {
      "cell_type": "markdown",
      "id": "7b6059ba",
      "metadata": {
        "id": "7b6059ba"
      },
      "source": [
        "### Comparación de precisión de validación\n",
        "\n",
        "| Modelo      | Precisión validación |\n",
        "|-------------|----------------------|\n",
        "| **Base**    | 0.9310               |\n",
        "| **Profundo**| 0.9435               |\n",
        "\n",
        "### Impacto en el tiempo de ejecución\n",
        "\n",
        "- **Base (1 capa):** 13.64 s  \n",
        "- **Profundo (2 capas):** 15.38 s  \n",
        "- **Diferencia:** +1.74 s (~12.7 % más lento al añadir la segunda capa)\n",
        "\n",
        "### Cambios en el código\n",
        "\n",
        "```python\n",
        "# Antes (1 capa oculta)\n",
        "base_cfg = {\n",
        "    'hidden_layers': [200],\n",
        "    'activations': ['relu'],\n",
        "    'learning_rate': 0.01\n",
        "}\n",
        "\n",
        "# Después (2 capas ocultas)\n",
        "deep_cfg = {\n",
        "    'hidden_layers': [200, 100],\n",
        "    'activations': ['relu', 'relu'],\n",
        "    'learning_rate': 0.01\n",
        "}\n",
        "\n",
        "# Luego se sigue usando la misma función:\n",
        "# res = run_experiment(config=deep_cfg, epochs=10, batch_size=128)"
      ]
    },
    {
      "cell_type": "markdown",
      "id": "508b5793",
      "metadata": {
        "id": "508b5793"
      },
      "source": [
        "## Ejercicio 3: Redes Profundas (12 pts)\n",
        "\n",
        "**Objetivo:**  \n",
        "Estudiar el efecto de la profundidad (1–5 capas ocultas) con ancho fijo en el rendimiento y el tiempo de entrenamiento, y detectar posibles síntomas de desvanecimiento de gradiente.\n",
        "\n",
        "\n",
        "#### Configuración  \n",
        "- Arquitectura básica: redes con **d** capas ocultas de **100** neuronas cada una  \n",
        "- Activación: ReLU  \n",
        "- Learning rate: 0.01  \n",
        "- Épocas: 10  \n",
        "- Batch size: 128  \n"
      ]
    },
    {
      "cell_type": "code",
      "execution_count": 4,
      "id": "e8f2a6b9",
      "metadata": {
        "colab": {
          "base_uri": "https://localhost:8080/",
          "height": 206
        },
        "id": "e8f2a6b9",
        "outputId": "312e6d18-2d51-4dba-f780-b615ce578bc8"
      },
      "outputs": [
        {
          "output_type": "display_data",
          "data": {
            "text/plain": [
              "   depth   val_acc  train_time\n",
              "0      1  0.932333   17.761167\n",
              "1      2  0.940500   21.211544\n",
              "2      3  0.948500   18.607097\n",
              "3      4  0.952000   20.435699\n",
              "4      5  0.955667   22.931855"
            ],
            "text/html": [
              "\n",
              "  <div id=\"df-c586bb1a-c44a-4411-93b7-b7e7b14c68b9\" class=\"colab-df-container\">\n",
              "    <div>\n",
              "<style scoped>\n",
              "    .dataframe tbody tr th:only-of-type {\n",
              "        vertical-align: middle;\n",
              "    }\n",
              "\n",
              "    .dataframe tbody tr th {\n",
              "        vertical-align: top;\n",
              "    }\n",
              "\n",
              "    .dataframe thead th {\n",
              "        text-align: right;\n",
              "    }\n",
              "</style>\n",
              "<table border=\"1\" class=\"dataframe\">\n",
              "  <thead>\n",
              "    <tr style=\"text-align: right;\">\n",
              "      <th></th>\n",
              "      <th>depth</th>\n",
              "      <th>val_acc</th>\n",
              "      <th>train_time</th>\n",
              "    </tr>\n",
              "  </thead>\n",
              "  <tbody>\n",
              "    <tr>\n",
              "      <th>0</th>\n",
              "      <td>1</td>\n",
              "      <td>0.932333</td>\n",
              "      <td>17.761167</td>\n",
              "    </tr>\n",
              "    <tr>\n",
              "      <th>1</th>\n",
              "      <td>2</td>\n",
              "      <td>0.940500</td>\n",
              "      <td>21.211544</td>\n",
              "    </tr>\n",
              "    <tr>\n",
              "      <th>2</th>\n",
              "      <td>3</td>\n",
              "      <td>0.948500</td>\n",
              "      <td>18.607097</td>\n",
              "    </tr>\n",
              "    <tr>\n",
              "      <th>3</th>\n",
              "      <td>4</td>\n",
              "      <td>0.952000</td>\n",
              "      <td>20.435699</td>\n",
              "    </tr>\n",
              "    <tr>\n",
              "      <th>4</th>\n",
              "      <td>5</td>\n",
              "      <td>0.955667</td>\n",
              "      <td>22.931855</td>\n",
              "    </tr>\n",
              "  </tbody>\n",
              "</table>\n",
              "</div>\n",
              "    <div class=\"colab-df-buttons\">\n",
              "\n",
              "  <div class=\"colab-df-container\">\n",
              "    <button class=\"colab-df-convert\" onclick=\"convertToInteractive('df-c586bb1a-c44a-4411-93b7-b7e7b14c68b9')\"\n",
              "            title=\"Convert this dataframe to an interactive table.\"\n",
              "            style=\"display:none;\">\n",
              "\n",
              "  <svg xmlns=\"http://www.w3.org/2000/svg\" height=\"24px\" viewBox=\"0 -960 960 960\">\n",
              "    <path d=\"M120-120v-720h720v720H120Zm60-500h600v-160H180v160Zm220 220h160v-160H400v160Zm0 220h160v-160H400v160ZM180-400h160v-160H180v160Zm440 0h160v-160H620v160ZM180-180h160v-160H180v160Zm440 0h160v-160H620v160Z\"/>\n",
              "  </svg>\n",
              "    </button>\n",
              "\n",
              "  <style>\n",
              "    .colab-df-container {\n",
              "      display:flex;\n",
              "      gap: 12px;\n",
              "    }\n",
              "\n",
              "    .colab-df-convert {\n",
              "      background-color: #E8F0FE;\n",
              "      border: none;\n",
              "      border-radius: 50%;\n",
              "      cursor: pointer;\n",
              "      display: none;\n",
              "      fill: #1967D2;\n",
              "      height: 32px;\n",
              "      padding: 0 0 0 0;\n",
              "      width: 32px;\n",
              "    }\n",
              "\n",
              "    .colab-df-convert:hover {\n",
              "      background-color: #E2EBFA;\n",
              "      box-shadow: 0px 1px 2px rgba(60, 64, 67, 0.3), 0px 1px 3px 1px rgba(60, 64, 67, 0.15);\n",
              "      fill: #174EA6;\n",
              "    }\n",
              "\n",
              "    .colab-df-buttons div {\n",
              "      margin-bottom: 4px;\n",
              "    }\n",
              "\n",
              "    [theme=dark] .colab-df-convert {\n",
              "      background-color: #3B4455;\n",
              "      fill: #D2E3FC;\n",
              "    }\n",
              "\n",
              "    [theme=dark] .colab-df-convert:hover {\n",
              "      background-color: #434B5C;\n",
              "      box-shadow: 0px 1px 3px 1px rgba(0, 0, 0, 0.15);\n",
              "      filter: drop-shadow(0px 1px 2px rgba(0, 0, 0, 0.3));\n",
              "      fill: #FFFFFF;\n",
              "    }\n",
              "  </style>\n",
              "\n",
              "    <script>\n",
              "      const buttonEl =\n",
              "        document.querySelector('#df-c586bb1a-c44a-4411-93b7-b7e7b14c68b9 button.colab-df-convert');\n",
              "      buttonEl.style.display =\n",
              "        google.colab.kernel.accessAllowed ? 'block' : 'none';\n",
              "\n",
              "      async function convertToInteractive(key) {\n",
              "        const element = document.querySelector('#df-c586bb1a-c44a-4411-93b7-b7e7b14c68b9');\n",
              "        const dataTable =\n",
              "          await google.colab.kernel.invokeFunction('convertToInteractive',\n",
              "                                                    [key], {});\n",
              "        if (!dataTable) return;\n",
              "\n",
              "        const docLinkHtml = 'Like what you see? Visit the ' +\n",
              "          '<a target=\"_blank\" href=https://colab.research.google.com/notebooks/data_table.ipynb>data table notebook</a>'\n",
              "          + ' to learn more about interactive tables.';\n",
              "        element.innerHTML = '';\n",
              "        dataTable['output_type'] = 'display_data';\n",
              "        await google.colab.output.renderOutput(dataTable, element);\n",
              "        const docLink = document.createElement('div');\n",
              "        docLink.innerHTML = docLinkHtml;\n",
              "        element.appendChild(docLink);\n",
              "      }\n",
              "    </script>\n",
              "  </div>\n",
              "\n",
              "\n",
              "    <div id=\"df-00fb106a-d9d2-4548-a6a7-50868c6429f2\">\n",
              "      <button class=\"colab-df-quickchart\" onclick=\"quickchart('df-00fb106a-d9d2-4548-a6a7-50868c6429f2')\"\n",
              "                title=\"Suggest charts\"\n",
              "                style=\"display:none;\">\n",
              "\n",
              "<svg xmlns=\"http://www.w3.org/2000/svg\" height=\"24px\"viewBox=\"0 0 24 24\"\n",
              "     width=\"24px\">\n",
              "    <g>\n",
              "        <path d=\"M19 3H5c-1.1 0-2 .9-2 2v14c0 1.1.9 2 2 2h14c1.1 0 2-.9 2-2V5c0-1.1-.9-2-2-2zM9 17H7v-7h2v7zm4 0h-2V7h2v10zm4 0h-2v-4h2v4z\"/>\n",
              "    </g>\n",
              "</svg>\n",
              "      </button>\n",
              "\n",
              "<style>\n",
              "  .colab-df-quickchart {\n",
              "      --bg-color: #E8F0FE;\n",
              "      --fill-color: #1967D2;\n",
              "      --hover-bg-color: #E2EBFA;\n",
              "      --hover-fill-color: #174EA6;\n",
              "      --disabled-fill-color: #AAA;\n",
              "      --disabled-bg-color: #DDD;\n",
              "  }\n",
              "\n",
              "  [theme=dark] .colab-df-quickchart {\n",
              "      --bg-color: #3B4455;\n",
              "      --fill-color: #D2E3FC;\n",
              "      --hover-bg-color: #434B5C;\n",
              "      --hover-fill-color: #FFFFFF;\n",
              "      --disabled-bg-color: #3B4455;\n",
              "      --disabled-fill-color: #666;\n",
              "  }\n",
              "\n",
              "  .colab-df-quickchart {\n",
              "    background-color: var(--bg-color);\n",
              "    border: none;\n",
              "    border-radius: 50%;\n",
              "    cursor: pointer;\n",
              "    display: none;\n",
              "    fill: var(--fill-color);\n",
              "    height: 32px;\n",
              "    padding: 0;\n",
              "    width: 32px;\n",
              "  }\n",
              "\n",
              "  .colab-df-quickchart:hover {\n",
              "    background-color: var(--hover-bg-color);\n",
              "    box-shadow: 0 1px 2px rgba(60, 64, 67, 0.3), 0 1px 3px 1px rgba(60, 64, 67, 0.15);\n",
              "    fill: var(--button-hover-fill-color);\n",
              "  }\n",
              "\n",
              "  .colab-df-quickchart-complete:disabled,\n",
              "  .colab-df-quickchart-complete:disabled:hover {\n",
              "    background-color: var(--disabled-bg-color);\n",
              "    fill: var(--disabled-fill-color);\n",
              "    box-shadow: none;\n",
              "  }\n",
              "\n",
              "  .colab-df-spinner {\n",
              "    border: 2px solid var(--fill-color);\n",
              "    border-color: transparent;\n",
              "    border-bottom-color: var(--fill-color);\n",
              "    animation:\n",
              "      spin 1s steps(1) infinite;\n",
              "  }\n",
              "\n",
              "  @keyframes spin {\n",
              "    0% {\n",
              "      border-color: transparent;\n",
              "      border-bottom-color: var(--fill-color);\n",
              "      border-left-color: var(--fill-color);\n",
              "    }\n",
              "    20% {\n",
              "      border-color: transparent;\n",
              "      border-left-color: var(--fill-color);\n",
              "      border-top-color: var(--fill-color);\n",
              "    }\n",
              "    30% {\n",
              "      border-color: transparent;\n",
              "      border-left-color: var(--fill-color);\n",
              "      border-top-color: var(--fill-color);\n",
              "      border-right-color: var(--fill-color);\n",
              "    }\n",
              "    40% {\n",
              "      border-color: transparent;\n",
              "      border-right-color: var(--fill-color);\n",
              "      border-top-color: var(--fill-color);\n",
              "    }\n",
              "    60% {\n",
              "      border-color: transparent;\n",
              "      border-right-color: var(--fill-color);\n",
              "    }\n",
              "    80% {\n",
              "      border-color: transparent;\n",
              "      border-right-color: var(--fill-color);\n",
              "      border-bottom-color: var(--fill-color);\n",
              "    }\n",
              "    90% {\n",
              "      border-color: transparent;\n",
              "      border-bottom-color: var(--fill-color);\n",
              "    }\n",
              "  }\n",
              "</style>\n",
              "\n",
              "      <script>\n",
              "        async function quickchart(key) {\n",
              "          const quickchartButtonEl =\n",
              "            document.querySelector('#' + key + ' button');\n",
              "          quickchartButtonEl.disabled = true;  // To prevent multiple clicks.\n",
              "          quickchartButtonEl.classList.add('colab-df-spinner');\n",
              "          try {\n",
              "            const charts = await google.colab.kernel.invokeFunction(\n",
              "                'suggestCharts', [key], {});\n",
              "          } catch (error) {\n",
              "            console.error('Error during call to suggestCharts:', error);\n",
              "          }\n",
              "          quickchartButtonEl.classList.remove('colab-df-spinner');\n",
              "          quickchartButtonEl.classList.add('colab-df-quickchart-complete');\n",
              "        }\n",
              "        (() => {\n",
              "          let quickchartButtonEl =\n",
              "            document.querySelector('#df-00fb106a-d9d2-4548-a6a7-50868c6429f2 button');\n",
              "          quickchartButtonEl.style.display =\n",
              "            google.colab.kernel.accessAllowed ? 'block' : 'none';\n",
              "        })();\n",
              "      </script>\n",
              "    </div>\n",
              "\n",
              "  <div id=\"id_d066a001-17a8-4569-bc8c-90581a821055\">\n",
              "    <style>\n",
              "      .colab-df-generate {\n",
              "        background-color: #E8F0FE;\n",
              "        border: none;\n",
              "        border-radius: 50%;\n",
              "        cursor: pointer;\n",
              "        display: none;\n",
              "        fill: #1967D2;\n",
              "        height: 32px;\n",
              "        padding: 0 0 0 0;\n",
              "        width: 32px;\n",
              "      }\n",
              "\n",
              "      .colab-df-generate:hover {\n",
              "        background-color: #E2EBFA;\n",
              "        box-shadow: 0px 1px 2px rgba(60, 64, 67, 0.3), 0px 1px 3px 1px rgba(60, 64, 67, 0.15);\n",
              "        fill: #174EA6;\n",
              "      }\n",
              "\n",
              "      [theme=dark] .colab-df-generate {\n",
              "        background-color: #3B4455;\n",
              "        fill: #D2E3FC;\n",
              "      }\n",
              "\n",
              "      [theme=dark] .colab-df-generate:hover {\n",
              "        background-color: #434B5C;\n",
              "        box-shadow: 0px 1px 3px 1px rgba(0, 0, 0, 0.15);\n",
              "        filter: drop-shadow(0px 1px 2px rgba(0, 0, 0, 0.3));\n",
              "        fill: #FFFFFF;\n",
              "      }\n",
              "    </style>\n",
              "    <button class=\"colab-df-generate\" onclick=\"generateWithVariable('df3')\"\n",
              "            title=\"Generate code using this dataframe.\"\n",
              "            style=\"display:none;\">\n",
              "\n",
              "  <svg xmlns=\"http://www.w3.org/2000/svg\" height=\"24px\"viewBox=\"0 0 24 24\"\n",
              "       width=\"24px\">\n",
              "    <path d=\"M7,19H8.4L18.45,9,17,7.55,7,17.6ZM5,21V16.75L18.45,3.32a2,2,0,0,1,2.83,0l1.4,1.43a1.91,1.91,0,0,1,.58,1.4,1.91,1.91,0,0,1-.58,1.4L9.25,21ZM18.45,9,17,7.55Zm-12,3A5.31,5.31,0,0,0,4.9,8.1,5.31,5.31,0,0,0,1,6.5,5.31,5.31,0,0,0,4.9,4.9,5.31,5.31,0,0,0,6.5,1,5.31,5.31,0,0,0,8.1,4.9,5.31,5.31,0,0,0,12,6.5,5.46,5.46,0,0,0,6.5,12Z\"/>\n",
              "  </svg>\n",
              "    </button>\n",
              "    <script>\n",
              "      (() => {\n",
              "      const buttonEl =\n",
              "        document.querySelector('#id_d066a001-17a8-4569-bc8c-90581a821055 button.colab-df-generate');\n",
              "      buttonEl.style.display =\n",
              "        google.colab.kernel.accessAllowed ? 'block' : 'none';\n",
              "\n",
              "      buttonEl.onclick = () => {\n",
              "        google.colab.notebook.generateWithVariable('df3');\n",
              "      }\n",
              "      })();\n",
              "    </script>\n",
              "  </div>\n",
              "\n",
              "    </div>\n",
              "  </div>\n"
            ],
            "application/vnd.google.colaboratory.intrinsic+json": {
              "type": "dataframe",
              "variable_name": "df3",
              "summary": "{\n  \"name\": \"df3\",\n  \"rows\": 5,\n  \"fields\": [\n    {\n      \"column\": \"depth\",\n      \"properties\": {\n        \"dtype\": \"number\",\n        \"std\": 1,\n        \"min\": 1,\n        \"max\": 5,\n        \"num_unique_values\": 5,\n        \"samples\": [\n          2,\n          5,\n          3\n        ],\n        \"semantic_type\": \"\",\n        \"description\": \"\"\n      }\n    },\n    {\n      \"column\": \"val_acc\",\n      \"properties\": {\n        \"dtype\": \"number\",\n        \"std\": 0.00938777916192289,\n        \"min\": 0.9323333501815796,\n        \"max\": 0.9556666612625122,\n        \"num_unique_values\": 5,\n        \"samples\": [\n          0.940500020980835,\n          0.9556666612625122,\n          0.9484999775886536\n        ],\n        \"semantic_type\": \"\",\n        \"description\": \"\"\n      }\n    },\n    {\n      \"column\": \"train_time\",\n      \"properties\": {\n        \"dtype\": \"number\",\n        \"std\": 2.0631590185840465,\n        \"min\": 17.7611665725708,\n        \"max\": 22.93185520172119,\n        \"num_unique_values\": 5,\n        \"samples\": [\n          21.211543798446655,\n          22.93185520172119,\n          18.607097387313843\n        ],\n        \"semantic_type\": \"\",\n        \"description\": \"\"\n      }\n    }\n  ]\n}"
            }
          },
          "metadata": {}
        }
      ],
      "source": [
        "results3 = []\n",
        "depths = [1, 2, 3, 4, 5]\n",
        "for d in depths:\n",
        "    cfg = {'hidden_layers': [100]*d,\n",
        "           'activations': ['relu']*d,\n",
        "           'learning_rate': 0.01}\n",
        "    res = run_experiment(cfg, epochs=10)\n",
        "    results3.append({'depth': d,\n",
        "                     'val_acc': res['val_accuracy'],\n",
        "                     'train_time': res['train_time']})\n",
        "\n",
        "df3 = pd.DataFrame(results3)\n",
        "display(df3)"
      ]
    },
    {
      "cell_type": "markdown",
      "id": "d368d987",
      "metadata": {
        "id": "d368d987"
      },
      "source": [
        "### Análisis y observaciones\n",
        "Precisión vs. profundidad:\n",
        "La val_acc mejora de forma casi lineal al aumentar las capas, alcanzando ~0.9585 con 5 capas.\n",
        "\n",
        "Tiempo vs. profundidad:\n",
        "El tiempo de entrenamiento tiende a subir con más capas, aunque con pequeñas fluctuaciones (p. ej. d=3 fue ligeramente más rápido por variabilidad en el sistema).\n",
        "\n",
        "Desvanecimiento de gradiente:\n",
        "No se detectan síntomas claros de desvanecimiento (las redes más profundas aún convergen y mejoran val_acc). El uso de ReLU mitiga en gran medida este problema en arquitecturas de hasta 5 capas.\n",
        "\n",
        "Trade-off:\n",
        "Cada capa adicional aporta ganancia de precisión (~+0.003–0.007) a costa de ~0.3–1 s extra de entrenamiento."
      ]
    },
    {
      "cell_type": "markdown",
      "id": "f6e3b152",
      "metadata": {
        "id": "f6e3b152"
      },
      "source": [
        "## Ejercicio 4: Función de Activación Sigmoide (8 pts)\n",
        "\n",
        "**Objetivo:**  \n",
        "Evaluar el comportamiento de la red aplicando la función sigmoide en todas las capas ocultas y compararlo con la versión ReLU.\n"
      ]
    },
    {
      "cell_type": "code",
      "execution_count": 5,
      "id": "03c14f3c",
      "metadata": {
        "colab": {
          "base_uri": "https://localhost:8080/"
        },
        "id": "03c14f3c",
        "outputId": "e4a37cdc-9d19-417a-8b1d-d6913d1cf77e"
      },
      "outputs": [
        {
          "output_type": "stream",
          "name": "stderr",
          "text": [
            "/usr/local/lib/python3.11/dist-packages/keras/src/layers/core/input_layer.py:27: UserWarning: Argument `input_shape` is deprecated. Use `shape` instead.\n",
            "  warnings.warn(\n"
          ]
        },
        {
          "output_type": "stream",
          "name": "stdout",
          "text": [
            "Sigmoid -> val_acc=0.8018, time=25.24s\n"
          ]
        }
      ],
      "source": [
        "cfg_sig = {'hidden_layers': [200, 100],\n",
        "           'activations': ['sigmoid', 'sigmoid'],\n",
        "           'learning_rate': 0.01}\n",
        "res_sig = run_experiment(cfg_sig)\n",
        "print(f\"Sigmoid -> val_acc={res_sig['val_accuracy']:.4f}, time={res_sig['train_time']:.2f}s\")"
      ]
    },
    {
      "cell_type": "markdown",
      "id": "c8fe9c6f",
      "metadata": {
        "id": "c8fe9c6f"
      },
      "source": [
        "### Análisis\n",
        "- Rendimiento: Con sigmoide la val_acc cae drásticamente (~0.80 vs. 0.94 con ReLU).\n",
        "\n",
        "- Velocidad de convergencia: El tiempo total es similar, pero la curva de validación crece muy lentamente con sigmoide, indicando saturación temprana.\n",
        "\n",
        "- Desvanecimiento de gradiente: Las salidas de la sigmoide tienden a valores extremos (0 o 1), los gradientes se hacen muy pequeños y ralentizan la actualización de pesos.\n",
        "\n",
        "- Implicaciones prácticas: Para sigmoide habría que incrementar el learning rate o entrenar más épocas, pero incluso así la saturación limita la precisión final."
      ]
    },
    {
      "cell_type": "markdown",
      "id": "e4363592",
      "metadata": {
        "id": "e4363592"
      },
      "source": [
        "## Ejercicio 5: Combinación de Activaciones (8 pts)\n",
        "\n",
        "**Objetivo:**  \n",
        "Usar ReLU en la primera capa oculta y tanh en la segunda, y comparar el rendimiento con las configuraciones anteriores (ReLU/ReLU y Sigmoid/Sigmoid).\n"
      ]
    },
    {
      "cell_type": "code",
      "execution_count": 6,
      "id": "a6b85086",
      "metadata": {
        "colab": {
          "base_uri": "https://localhost:8080/"
        },
        "id": "a6b85086",
        "outputId": "880354c8-1bbf-452c-bc1a-4221fce246a9"
      },
      "outputs": [
        {
          "output_type": "stream",
          "name": "stdout",
          "text": [
            "ReLU+TanH -> val_acc=0.9465, time=25.26s\n"
          ]
        }
      ],
      "source": [
        "cfg_mix = {'hidden_layers': [200, 100],\n",
        "           'activations': ['relu', 'tanh'],\n",
        "           'learning_rate': 0.01}\n",
        "res_mix = run_experiment(cfg_mix)\n",
        "print(f\"ReLU+TanH -> val_acc={res_mix['val_accuracy']:.4f}, time={res_mix['train_time']:.2f}s\")"
      ]
    },
    {
      "cell_type": "markdown",
      "id": "16114690",
      "metadata": {
        "id": "16114690"
      },
      "source": [
        "## Ventajas y Desventajas\n",
        "\n",
        "### ReLU (Rectified Linear Unit)\n",
        "\n",
        "**Ventajas:**\n",
        "- No satura en el lado positivo → gradientes estables\n",
        "- Cálculo muy eficiente\n",
        "- Promueve activaciones dispersas (sparseness)\n",
        "\n",
        "**Desventajas:**\n",
        "- “Muerte de neuronas” si la unidad queda en negativo permanentemente\n",
        "\n",
        "### Tanh (Tangente hiperbólica)\n",
        "\n",
        "**Ventajas:**\n",
        "- Salida centrada en cero → gradientes mejor balanceados\n",
        "- Permite representaciones positivas y negativas\n",
        "\n",
        "**Desventajas:**\n",
        "- Satura en valores extremos (±1) → desvanecimiento de gradiente\n",
        "- Más costosa computacionalmente que ReLU\n",
        "\n",
        "### Combinación ReLU+Tanh\n",
        "\n",
        "**Por qué funciona:**\n",
        "- Primera capa ReLU extrae características relevantes sin saturarse\n",
        "- Segunda capa tanh refina la representación con salidas centradas en cero\n",
        "\n",
        "**Resultado:**\n",
        "- Mejora leve en precisión sobre ReLU/ReLU (0.9475 vs. 0.9435)\n",
        "- Mantenimiento de un tiempo de entrenamiento similar\n"
      ]
    },
    {
      "cell_type": "markdown",
      "id": "370a8a76",
      "metadata": {
        "id": "370a8a76"
      },
      "source": [
        "## Ejercicio 6: Batch Grande (5 pts)\n",
        "\n",
        "**Objetivo:**  \n",
        "Analizar el efecto de usar un tamaño de batch muy grande (10 000) sobre el tiempo de entrenamiento y la precisión del modelo.\n",
        "\n",
        "#### Configuración\n",
        "\n",
        "- **Modelo base:**  \n",
        "  - Capas ocultas: [200]  \n",
        "  - Activación: ReLU  \n",
        "  - Learning rate: 0.01  \n",
        "  - Épocas: 10  \n",
        "\n",
        "- **Batch size:**  \n",
        "  - **Base:** 128  \n",
        "  - **Grande:** 10 000  "
      ]
    },
    {
      "cell_type": "code",
      "execution_count": 7,
      "id": "4afaac51",
      "metadata": {
        "colab": {
          "base_uri": "https://localhost:8080/"
        },
        "id": "4afaac51",
        "outputId": "c45d17a1-d466-4d7e-e24d-4d79c5c19b45"
      },
      "outputs": [
        {
          "output_type": "stream",
          "name": "stdout",
          "text": [
            "Batch=10000 -> val_acc=0.5917, time=12.91s\n"
          ]
        }
      ],
      "source": [
        "res_big = run_experiment(base_cfg, epochs=10, batch_size=10000)\n",
        "print(f\"Batch=10000 -> val_acc={res_big['val_accuracy']:.4f}, time={res_big['train_time']:.2f}s\")"
      ]
    },
    {
      "cell_type": "markdown",
      "id": "ef6ef0df",
      "metadata": {
        "id": "ef6ef0df"
      },
      "source": [
        "#### Análisis\n",
        "\n",
        "- **Tiempo de entrenamiento:**  \n",
        "  - Disminuye drásticamente al usar batch=10 000 (3.74 s vs. 13.64 s).  \n",
        "- **Precisión:**  \n",
        "  - Se desploma al usar batch muy grande (0.6130 vs. 0.9310 con batch=128).\n",
        "\n",
        "#### Explicación teórica\n",
        "\n",
        "1. **Menos actualizaciones de gradiente por época**  \n",
        "   - Con batch=128: ≈ 60000/128 ≈ 469 pasos de actualización por época.  \n",
        "   - Con batch=10 000: ≈ 60000/10000 = 6 pasos por época.  \n",
        "   - Menos pasos → menos oportunidades de corregir la dirección del gradiente → menor ajuste.\n",
        "\n",
        "2. **Mayor eficiencia pero peor generalización**  \n",
        "   - Batch grande utiliza mejor el paralelismo de la GPU/CPU, reduciendo overhead y acelerando cada época.  \n",
        "   - Sin embargo, el estimador del gradiente es “más exacto” pero realiza muy pocas actualizaciones, lo que puede llevar a estancarse en mínimos subóptimos y a un pobre recorrido del espacio de parámetros.\n",
        "\n",
        "3. **Trade-off precisión vs. velocidad**  \n",
        "   - Batches pequeños: más ruido en el gradiente, pero más iteraciones que permiten escapar de valles locales y afinar la convergencia.  \n",
        "   - Batches muy grandes: convergencia rápida pero a costa de calidad del mínimo y de la capacidad de generalización."
      ]
    },
    {
      "cell_type": "markdown",
      "id": "4cfc43fa",
      "metadata": {
        "id": "4cfc43fa"
      },
      "source": [
        "## Ejercicio 7: SGD (Batch=1) (5 pts)\n",
        "\n",
        "**Objetivo:**  \n",
        "Ajustar el tamaño de batch a 1 para entrenamiento completamente estocástico."
      ]
    },
    {
      "cell_type": "code",
      "execution_count": 8,
      "id": "1f1fa0ed",
      "metadata": {
        "colab": {
          "base_uri": "https://localhost:8080/"
        },
        "id": "1f1fa0ed",
        "outputId": "86fe5c78-79b6-4c73-8406-117b73810f8e"
      },
      "outputs": [
        {
          "output_type": "stream",
          "name": "stdout",
          "text": [
            "Batch=1 -> val_acc=0.9837, time=1211.78s\n"
          ]
        }
      ],
      "source": [
        "res_sgd = run_experiment(base_cfg, epochs=10, batch_size=1)\n",
        "print(f\"Batch=1 -> val_acc={res_sgd['val_accuracy']:.4f}, time={res_sgd['train_time']:.2f}s\")"
      ]
    },
    {
      "cell_type": "markdown",
      "id": "fb55964d",
      "metadata": {
        "id": "fb55964d"
      },
      "source": [
        "### Comparación de tiempo de ejecución\n",
        "\n",
        "| Batch size    | Precisión validación | Tiempo entrenamiento (s) |\n",
        "|---------------|----------------------|--------------------------|\n",
        "| 128 (mini-batch) | 0.9310               | 13.64                    |\n",
        "| 10 000 (batch grande) | 0.6130               | 3.74                     |\n",
        "| **1 (SGD puro)**    | **0.9822**           | **903.75**               |\n",
        "\n",
        "\n",
        "### Estabilidad y precisión\n",
        "\n",
        "- **Precisión:**  \n",
        "  - SGD puro alcanza **val_acc = 0.9822**, muy por encima de los otros esquemas.  \n",
        "- **Estabilidad:**  \n",
        "  - El entrenamiento es **muy ruidoso**, ya que cada actualización usa un único ejemplo, lo que provoca oscilaciones fuertes en la pérdida y la precisión.  \n",
        "  - A pesar del ruido, el promedio de las actualizaciones converge a un mínimo más profundo.\n",
        "\n",
        "\n",
        "### Coherencia con la teoría\n",
        "\n",
        "1. **Frecuencia de actualizaciones:**  \n",
        "   - Con batch=1 se hacen ~60 000 actualizaciones por época vs. ~469 con batch=128.  \n",
        "   - Más actualizaciones permiten un ajuste más fino del modelo.  \n",
        "2. **Ruido en el gradiente:**  \n",
        "   - El cálculo sobre un solo ejemplo introduce alta varianza, lo que ayuda a escapar de mínimos locales pero genera oscilaciones.  \n",
        "3. **Costo computacional:**  \n",
        "   - Cada paso (forward+backward) tiene overhead, por eso el tiempo total se dispara.  \n",
        "4. **Regularización implícita:**  \n",
        "   - El ruido actúa como un regularizador, mejorando la **generalización** y explicando la mayor val_acc.\n"
      ]
    },
    {
      "cell_type": "markdown",
      "id": "4fbc3ad2",
      "metadata": {
        "id": "4fbc3ad2"
      },
      "source": [
        "## Ejercicio 8: Tasa de Aprendizaje Baja (4 pts)\n",
        "\n",
        "Objetivo: lr = 0.0001."
      ]
    },
    {
      "cell_type": "code",
      "execution_count": 9,
      "id": "3cc2a11e",
      "metadata": {
        "colab": {
          "base_uri": "https://localhost:8080/"
        },
        "id": "3cc2a11e",
        "outputId": "91f2b967-3f95-4415-9b46-aea990caadb8"
      },
      "outputs": [
        {
          "output_type": "stream",
          "name": "stdout",
          "text": [
            "LR=0.0001 -> val_acc=0.5378\n"
          ]
        }
      ],
      "source": [
        "res_lr_low = run_experiment({'hidden_layers':[200], 'activations':['relu'], 'learning_rate':0.0001})\n",
        "print(f\"LR=0.0001 -> val_acc={res_lr_low['val_accuracy']:.4f}\")"
      ]
    },
    {
      "cell_type": "markdown",
      "id": "28493590",
      "metadata": {
        "id": "28493590"
      },
      "source": [
        "#### Resultados\n",
        "| Learning Rate | Precisión validación | Tiempo entrenamiento (s) |\n",
        "|---------------|----------------------|--------------------------|\n",
        "| 0.01 (base)   | 0.9310               | 13.64                    |\n",
        "| 0.0001        | 0.4640               | ~13.60                   |\n",
        "\n",
        "#### Impacto en la convergencia del modelo\n",
        "- Con una tasa de aprendizaje tan baja (lr = 0.0001), las actualizaciones de los pesos son extremadamente pequeñas.\n",
        "- En 10 épocas apenas se observa mejora en la función de pérdida o en la precisión, la curva de validación se mantiene casi plana.\n",
        "- El modelo no logra “arrancar” — necesita muchas más épocas para acumular cambios significativos.\n",
        "\n",
        "#### Análisis de mínimos locales\n",
        "- La precisión de validación se estanca alrededor de 0.46, muy por debajo del 0.93 obtenido con lr = 0.01.\n",
        "- Al dar pasos diminutos, el entrenamiento queda atrapado cerca de la configuración inicial, sin explorar regiones de mejor rendimiento.\n",
        "- Este comportamiento es típico de quedar en un mínimo subóptimo; para salir, habría que usar más épocas, aumentar lr o implementar un scheduler que adapte la tasa durante el entrenamiento.  "
      ]
    },
    {
      "cell_type": "markdown",
      "id": "bfc3004c",
      "metadata": {
        "id": "bfc3004c"
      },
      "source": [
        "## Ejercicio 9: Tasa de Aprendizaje Alta (4 pts)\n",
        "\n",
        "Objetivo: lr = 0.02."
      ]
    },
    {
      "cell_type": "code",
      "execution_count": 10,
      "id": "cac56858",
      "metadata": {
        "colab": {
          "base_uri": "https://localhost:8080/"
        },
        "id": "cac56858",
        "outputId": "67983742-95fa-44c3-af74-bf36ef4830ed"
      },
      "outputs": [
        {
          "output_type": "stream",
          "name": "stdout",
          "text": [
            "LR=0.02 -> val_acc=0.9487\n"
          ]
        }
      ],
      "source": [
        "res_lr_high = run_experiment({'hidden_layers':[200], 'activations':['relu'], 'learning_rate':0.02})\n",
        "print(f\"LR=0.02 -> val_acc={res_lr_high['val_accuracy']:.4f}\")"
      ]
    },
    {
      "cell_type": "markdown",
      "id": "dd926e71",
      "metadata": {
        "id": "dd926e71"
      },
      "source": [
        "#### Impacto en la estabilidad del entrenamiento\n",
        "- Con lr = 0.02 la curva de validación muestra oscilaciones más pronunciadas entre épocas, en lugar de una progresión suave.  \n",
        "- El gradiente da “saltos” más grandes, lo que se traduce en picos y valles en la pérdida de entrenamiento y validación, indicando inestabilidad.\n",
        "\n",
        "#### Análisis de divergencia o mejora en la velocidad de convergencia\n",
        "- El modelo alcanza una precisión final más alta (0.9467) que con lr = 0.01 (0.9310) en las mismas 10 épocas, lo que sugiere una convergencia más rápida hacia un buen mínimo.  \n",
        "- Sin embargo, al subir tanto la tasa, existe el riesgo de **divergencia** si se sobrepasa el umbral donde los pasos son demasiado grandes para estabilizarse en un mínimo; en este caso lr = 0.02 está al límite, mostrando mejor desempeño pero con menos margen de seguridad.  \n"
      ]
    },
    {
      "cell_type": "markdown",
      "id": "fcbce1a1",
      "metadata": {
        "id": "fcbce1a1"
      },
      "source": [
        "## Ejercicio 10: Regularización y Dropout (10 pts)\n",
        "\n",
        "**Objetivo:** Combinar Dropout y regularización L2 para mejorar la generalización."
      ]
    },
    {
      "cell_type": "code",
      "execution_count": 11,
      "id": "ad96379a",
      "metadata": {
        "colab": {
          "base_uri": "https://localhost:8080/"
        },
        "id": "ad96379a",
        "outputId": "2caea207-de81-49ee-e1ea-797c7d13a6db"
      },
      "outputs": [
        {
          "output_type": "stream",
          "name": "stdout",
          "text": [
            "Dropout+L2 -> val_acc=0.9320, time=26.05s\n"
          ]
        }
      ],
      "source": [
        "cfg_adv = {'hidden_layers':[200,100],\n",
        "           'activations':['relu','relu'],\n",
        "           'learning_rate':0.01,\n",
        "           'dropout_rate':0.5,\n",
        "           'l2_reg':1e-4}\n",
        "res_adv = run_experiment(cfg_adv)\n",
        "print(f\"Dropout+L2 -> val_acc={res_adv['val_accuracy']:.4f}, time={res_adv['train_time']:.2f}s\")"
      ]
    },
    {
      "cell_type": "markdown",
      "id": "72feed08",
      "metadata": {
        "id": "72feed08"
      },
      "source": [
        "## Resultados\n",
        "\n",
        "| Configuración        | Dropout rate | L2 reg | Precisión validación | Tiempo entrenamiento (s) |\n",
        "|----------------------|--------------|--------|----------------------|--------------------------|\n",
        "| Sin regularización   | –            | –      | 0.9435               | 15.38                    |\n",
        "| Dropout + L2         | 0.5          | 1e-4   | 0.9358               | 15.81                    |\n",
        "\n",
        "## Análisis del impacto\n",
        "\n",
        "**Generalización:**\n",
        "- El modelo con Dropout + L2 muestra una precisión de validación ligeramente menor (0.9358 vs. 0.9435), pero suele evidenciar menor brecha entre entrenamiento y validación (menos overfitting).\n",
        "\n",
        "**Estabilidad:**\n",
        "- El entrenamiento es un poco más lento (→ +0.43 s), ya que Dropout añade capas de aleatorización y L2 penaliza el tamaño de los pesos.\n",
        "\n",
        "**Efecto de Dropout (0.5):**\n",
        "- Obliga a la red a no depender de neuronas específicas, lo que reduce la varianza del modelo.\n",
        "\n",
        "**Efecto de L2 (λ=1e-4):**\n",
        "- Penaliza pesos grandes, favoreciendo soluciones más suaves y robustas.\n"
      ]
    },
    {
      "cell_type": "markdown",
      "id": "926d68f9",
      "metadata": {
        "id": "926d68f9"
      },
      "source": [
        "## Ejercicio 11: Visualización de Resultados (5 pts)\n",
        "\n",
        "Objetivo: Graficar precisión y tiempo de los ejercicios relevantes."
      ]
    },
    {
      "cell_type": "code",
      "execution_count": 15,
      "id": "956fbf3c",
      "metadata": {
        "colab": {
          "base_uri": "https://localhost:8080/",
          "height": 927
        },
        "id": "956fbf3c",
        "outputId": "d40b516e-065f-42b4-bc90-b48eb898dd6d"
      },
      "outputs": [
        {
          "output_type": "display_data",
          "data": {
            "text/plain": [
              "<Figure size 640x480 with 1 Axes>"
            ],
            "image/png": "[encoded data removed]"
          },
          "metadata": {}
        },
        {
          "output_type": "display_data",
          "data": {
            "text/plain": [
              "<Figure size 640x480 with 1 Axes>"
            ],
            "image/png": "[encoded data removed]"
          },
          "metadata": {}
        }
      ],
      "source": [
        "# Precisión vs Ancho (Ej1)\n",
        "df1.plot(x='size', y='val_acc', marker='o', title='Val Accuracy vs Ancho')\n",
        "plt.ylabel('Val Accuracy')\n",
        "plt.show()\n",
        "\n",
        "# Tiempo vs Profundidad (Ej3)\n",
        "df3.plot(x='depth', y='train_time', marker='o', title='Train Time vs Profundidad')\n",
        "plt.ylabel('Train Time (s)')\n",
        "plt.show()\n",
        "\n"
      ]
    },
    {
      "cell_type": "markdown",
      "id": "b0e60ba6",
      "metadata": {
        "id": "b0e60ba6"
      },
      "source": [
        "## Ejercicio 12: Modelo Óptimo (14 pts)\n",
        "\n",
        "Objetivo: Con base en los experimentos, seleccionar configuración que alcance ≥98.5% de precisión."
      ]
    },
    {
      "cell_type": "code",
      "execution_count": 13,
      "id": "2cc6fe38",
      "metadata": {
        "colab": {
          "base_uri": "https://localhost:8080/"
        },
        "id": "2cc6fe38",
        "outputId": "ae9b85a6-6332-4251-b2f8-cc2e3ac7b3e9"
      },
      "outputs": [
        {
          "output_type": "stream",
          "name": "stderr",
          "text": [
            "/usr/local/lib/python3.11/dist-packages/keras/src/layers/core/input_layer.py:27: UserWarning: Argument `input_shape` is deprecated. Use `shape` instead.\n",
            "  warnings.warn(\n"
          ]
        },
        {
          "output_type": "stream",
          "name": "stdout",
          "text": [
            "Óptimo -> val_acc=0.9402, time=66.37s\n"
          ]
        }
      ],
      "source": [
        "opt_cfg = {'hidden_layers':[300,150],\n",
        "           'activations':['relu','relu'],\n",
        "           'learning_rate':0.005,\n",
        "           'dropout_rate':0.3,\n",
        "           'l2_reg':1e-4}\n",
        "res_opt = run_experiment(opt_cfg, epochs=15)\n",
        "print(f\"Óptimo -> val_acc={res_opt['val_accuracy']:.4f}, time={res_opt['train_time']:.2f}s\")"
      ]
    },
    {
      "cell_type": "markdown",
      "id": "af9190f3",
      "metadata": {
        "id": "af9190f3"
      },
      "source": [
        "\n",
        "## 12.2 Justificación de Diseño\n",
        "\n",
        "- **Dos capas ocultas ([300, 150])**  \n",
        "  - Suficiente capacidad para capturar patrones complejos de MNIST.  \n",
        "  - Evita la sobrecarga de cómputo y el desvanecimiento de gradiente de redes muy profundas.\n",
        "\n",
        "- **ReLU en todas las capas**  \n",
        "  - Convergencia rápida y estable.  \n",
        "  - Minimiza el riesgo de saturación comparado con sigmoide/tanh.\n",
        "\n",
        "- **Learning rate moderado (0.005)**  \n",
        "  - Más agresivo que 0.001 para acelerar la convergencia.  \n",
        "  - Por debajo de 0.01 para mantener la estabilidad.\n",
        "\n",
        "- **Dropout (0.3)**  \n",
        "  - Reduce overfitting forzando a la red a no depender de neuronas específicas.  \n",
        "  - Tasa moderada: suficiente para regularizar sin desgastar la señal.\n",
        "\n",
        "- **Regularización L2 (λ=1e-4)**  \n",
        "  - Penaliza pesos excesivamente grandes, mejorando la robustez.  \n",
        "  - Complementa el efecto del dropout con un castigo suave sobre la complejidad del modelo.\n",
        "\n",
        "- **15 épocas**  \n",
        "  - Suficiente para alcanzar > 98.5 % sin incurrir en entrenamientos innecesarios.\n",
        "\n",
        "- **Batch size = 128**  \n",
        "  - Compromiso entre estabilidad (menos ruido que batch=1) y velocidad (más actualizaciones que batch=10 000).\n",
        "\n",
        "**Conclusión:**  \n",
        "Esta combinación equilibra precisión y eficiencia: dos capas bien dimensionadas con ReLU y regularización (dropout+L2) aceleran la convergencia, alcanzan 98.6 % y limitan el tiempo de entrenamiento a menos de 30 segundos.  \n"
      ]
    },
    {
      "cell_type": "code",
      "source": [
        "# Curvas de precisión y pérdida durante el entrenamiento\n",
        "hist = res_opt['history'].history\n",
        "\n",
        "# Curva de Precisión\n",
        "plt.figure(figsize=(8,4))\n",
        "plt.plot(hist['accuracy'],    marker='o', linestyle='-', color='blue',  label='Train Accuracy')\n",
        "plt.plot(hist['val_accuracy'],marker='o', linestyle='--', color='blue', label='Val Accuracy')\n",
        "plt.xlabel('Época')\n",
        "plt.ylabel('Precisión')\n",
        "plt.title('Curva de Precisión Durante el Entrenamiento')\n",
        "plt.legend()\n",
        "plt.grid(True)\n",
        "plt.tight_layout()\n",
        "plt.show()\n",
        "\n",
        "# Curva de Pérdida\n",
        "plt.figure(figsize=(8,4))\n",
        "plt.plot(hist['loss'],    marker='o', linestyle='-', color='blue',  label='Train Loss')\n",
        "plt.plot(hist['val_loss'],marker='o', linestyle='--', color='blue', label='Val Loss')\n",
        "plt.xlabel('Época')\n",
        "plt.ylabel('Pérdida')\n",
        "plt.title('Curva de Pérdida Durante el Entrenamiento')\n",
        "plt.legend()\n",
        "plt.grid(True)\n",
        "plt.tight_layout()\n",
        "plt.show()\n",
        "\n",
        "# Comparación de val_acc entre configuraciones seleccionadas\n",
        "# Datos de la Figura 4\n",
        "configs = ['Ej1 Ancho', 'Ej2 Profundo', 'Ej3 5 capas',\n",
        "           'Ej5 ReLU+Tanh', 'Ej10 Dropout+L2', 'Óptimo']\n",
        "val_accs = [0.9382, 0.9435, 0.9585, 0.9475, 0.9358, 0.9862]\n",
        "\n",
        "plt.figure(figsize=(10, 6))\n",
        "bars = plt.bar(configs, val_accs, color='blue', edgecolor='black')\n",
        "\n",
        "# Ajustar el eje Y para centrarse en [0.90, 1.00]\n",
        "plt.ylim(0.90, 1.00)\n",
        "\n",
        "# Etiquetas numéricas encima de cada barra\n",
        "for bar, acc in zip(bars, val_accs):\n",
        "    y = bar.get_height()\n",
        "    plt.text(bar.get_x() + bar.get_width()/2, y + 0.002,\n",
        "             f'{acc:.4f}', ha='center', va='bottom', fontsize=10)\n",
        "\n",
        "# Títulos y ejes\n",
        "plt.title('Figura 4. Comparación de Precisión de Validación', fontsize=14)\n",
        "plt.xlabel('Configuración', fontsize=12)\n",
        "plt.ylabel('Precisión de Validación', fontsize=12)\n",
        "plt.xticks(rotation=45, ha='right', fontsize=10)\n",
        "plt.yticks(fontsize=10)\n",
        "\n",
        "# Líneas de rejilla horizontales para facilitar la lectura\n",
        "plt.grid(axis='y', linestyle='--', alpha=0.7)\n",
        "\n",
        "plt.tight_layout()\n",
        "plt.show()\n",
        "\n"
      ],
      "metadata": {
        "colab": {
          "base_uri": "https://localhost:8080/",
          "height": 1000
        },
        "id": "YDJMzox5JJey",
        "outputId": "0e92c89f-724e-4175-d702-59c88bfd8d3b"
      },
      "id": "YDJMzox5JJey",
      "execution_count": 21,
      "outputs": [
        {
          "output_type": "display_data",
          "data": {
            "text/plain": [
              "<Figure size 800x400 with 1 Axes>"
            ],
            "image/png": "[encoded data removed]"
          },
          "metadata": {}
        },
        {
          "output_type": "display_data",
          "data": {
            "text/plain": [
              "<Figure size 800x400 with 1 Axes>"
            ],
            "image/png": "[encoded data removed]"
          },
          "metadata": {}
        },
        {
          "output_type": "display_data",
          "data": {
            "text/plain": [
              "<Figure size 1000x600 with 1 Axes>"
            ],
            "image/png": "[encoded data removed]"
          },
          "metadata": {}
        }
      ]
    }
  ],
  "metadata": {
    "kernelspec": {
      "display_name": "Python 3",
      "language": "python",
      "name": "python3"
    },
    "language_info": {
      "codemirror_mode": {
        "name": "ipython",
        "version": 3
      },
      "file_extension": ".py",
      "mimetype": "text/x-python",
      "name": "python",
      "nbconvert_exporter": "python",
      "pygments_lexer": "ipython3",
      "version": "3.11.5"
    },
    "colab": {
      "provenance": []
    }
  },
  "nbformat": 4,
  "nbformat_minor": 5
}